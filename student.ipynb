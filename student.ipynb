{
 "cells": [
  {
   "cell_type": "markdown",
   "metadata": {},
   "source": [
    "## Final Project Submission\n",
    "\n",
    "* Student name: Laura Lewis\n",
    "* Student pace: full time\n",
    "* Scheduled project review date/time: \n",
    "* Instructor name: Joe San Pietro\n",
    "* Blog post URL:\n",
    "***"
   ]
  },
  {
   "cell_type": "markdown",
   "metadata": {},
   "source": [
    "Add table of contents with links"
   ]
  },
  {
   "cell_type": "markdown",
   "metadata": {},
   "source": [
    "# Introduction"
   ]
  },
  {
   "cell_type": "markdown",
   "metadata": {},
   "source": [
    "Project aims, data source, etc."
   ]
  },
  {
   "cell_type": "markdown",
   "metadata": {},
   "source": [
    "***\n",
    "# Obtaining the data"
   ]
  },
  {
   "cell_type": "markdown",
   "metadata": {},
   "source": [
    "In this section...\n",
    "\n",
    "Source of data:..."
   ]
  },
  {
   "cell_type": "code",
   "execution_count": 474,
   "metadata": {},
   "outputs": [],
   "source": [
    "# Importing the required libraries\n",
    "import pandas as pd\n",
    "pd.set_option('display.max_columns', 50) # Display up to 50 columns at a time\n",
    "import numpy as np\n",
    "import matplotlib.pyplot as plt\n",
    "%matplotlib inline\n",
    "from matplotlib import cm\n",
    "plt.style.use('seaborn')\n",
    "from matplotlib.pylab import rcParams\n",
    "rcParams['figure.figsize'] = 12,5\n",
    "import glob # To read all csv files in the directory\n",
    "import seaborn as sns\n",
    "import calendar"
   ]
  },
  {
   "cell_type": "markdown",
   "metadata": {},
   "source": [
    "The most recent Kickstarter data from https://webrobots.io/kickstarter-datasets/ (from 14 March 2019) is stored in 56 separate csv files. The code below creates a list of all csv files beginning with 'Kickstarter' and concatenates them into one dataframe:"
   ]
  },
  {
   "cell_type": "code",
   "execution_count": 285,
   "metadata": {},
   "outputs": [],
   "source": [
    "df = pd.concat([pd.read_csv(f) for f in glob.glob('data/Kickstarter*.csv')], ignore_index = True)"
   ]
  },
  {
   "cell_type": "code",
   "execution_count": 286,
   "metadata": {
    "scrolled": false
   },
   "outputs": [
    {
     "data": {
      "text/html": [
       "<div>\n",
       "<style scoped>\n",
       "    .dataframe tbody tr th:only-of-type {\n",
       "        vertical-align: middle;\n",
       "    }\n",
       "\n",
       "    .dataframe tbody tr th {\n",
       "        vertical-align: top;\n",
       "    }\n",
       "\n",
       "    .dataframe thead th {\n",
       "        text-align: right;\n",
       "    }\n",
       "</style>\n",
       "<table border=\"1\" class=\"dataframe\">\n",
       "  <thead>\n",
       "    <tr style=\"text-align: right;\">\n",
       "      <th></th>\n",
       "      <th>backers_count</th>\n",
       "      <th>blurb</th>\n",
       "      <th>category</th>\n",
       "      <th>converted_pledged_amount</th>\n",
       "      <th>country</th>\n",
       "      <th>created_at</th>\n",
       "      <th>creator</th>\n",
       "      <th>currency</th>\n",
       "      <th>currency_symbol</th>\n",
       "      <th>currency_trailing_code</th>\n",
       "      <th>current_currency</th>\n",
       "      <th>deadline</th>\n",
       "      <th>disable_communication</th>\n",
       "      <th>friends</th>\n",
       "      <th>fx_rate</th>\n",
       "      <th>goal</th>\n",
       "      <th>id</th>\n",
       "      <th>is_backing</th>\n",
       "      <th>is_starrable</th>\n",
       "      <th>is_starred</th>\n",
       "      <th>launched_at</th>\n",
       "      <th>location</th>\n",
       "      <th>name</th>\n",
       "      <th>permissions</th>\n",
       "      <th>photo</th>\n",
       "      <th>pledged</th>\n",
       "      <th>profile</th>\n",
       "      <th>slug</th>\n",
       "      <th>source_url</th>\n",
       "      <th>spotlight</th>\n",
       "      <th>staff_pick</th>\n",
       "      <th>state</th>\n",
       "      <th>state_changed_at</th>\n",
       "      <th>static_usd_rate</th>\n",
       "      <th>urls</th>\n",
       "      <th>usd_pledged</th>\n",
       "      <th>usd_type</th>\n",
       "    </tr>\n",
       "  </thead>\n",
       "  <tbody>\n",
       "    <tr>\n",
       "      <th>0</th>\n",
       "      <td>21</td>\n",
       "      <td>2006 was almost 7 years ago.... Can you believ...</td>\n",
       "      <td>{\"id\":43,\"name\":\"Rock\",\"slug\":\"music/rock\",\"po...</td>\n",
       "      <td>802</td>\n",
       "      <td>US</td>\n",
       "      <td>1387659690</td>\n",
       "      <td>{\"id\":1495925645,\"name\":\"Daniel\",\"is_registere...</td>\n",
       "      <td>USD</td>\n",
       "      <td>$</td>\n",
       "      <td>True</td>\n",
       "      <td>USD</td>\n",
       "      <td>1391899046</td>\n",
       "      <td>False</td>\n",
       "      <td>NaN</td>\n",
       "      <td>1.0</td>\n",
       "      <td>200.0</td>\n",
       "      <td>287514992</td>\n",
       "      <td>NaN</td>\n",
       "      <td>False</td>\n",
       "      <td>NaN</td>\n",
       "      <td>1388011046</td>\n",
       "      <td>{\"id\":2379574,\"name\":\"Chicago\",\"slug\":\"chicago...</td>\n",
       "      <td>New Final Round Album</td>\n",
       "      <td>NaN</td>\n",
       "      <td>{\"key\":\"assets/011/625/534/5bea1760d7f20943c4c...</td>\n",
       "      <td>802.0</td>\n",
       "      <td>{\"id\":822687,\"project_id\":822687,\"state\":\"inac...</td>\n",
       "      <td>new-final-round-album</td>\n",
       "      <td>https://www.kickstarter.com/discover/categorie...</td>\n",
       "      <td>True</td>\n",
       "      <td>False</td>\n",
       "      <td>successful</td>\n",
       "      <td>1391899046</td>\n",
       "      <td>1.0</td>\n",
       "      <td>{\"web\":{\"project\":\"https://www.kickstarter.com...</td>\n",
       "      <td>802.0</td>\n",
       "      <td>international</td>\n",
       "    </tr>\n",
       "    <tr>\n",
       "      <th>1</th>\n",
       "      <td>97</td>\n",
       "      <td>An adorable fantasy enamel pin series of princ...</td>\n",
       "      <td>{\"id\":54,\"name\":\"Mixed Media\",\"slug\":\"art/mixe...</td>\n",
       "      <td>2259</td>\n",
       "      <td>US</td>\n",
       "      <td>1549659768</td>\n",
       "      <td>{\"id\":1175589980,\"name\":\"Katherine\",\"slug\":\"fr...</td>\n",
       "      <td>USD</td>\n",
       "      <td>$</td>\n",
       "      <td>True</td>\n",
       "      <td>USD</td>\n",
       "      <td>1551801611</td>\n",
       "      <td>False</td>\n",
       "      <td>NaN</td>\n",
       "      <td>1.0</td>\n",
       "      <td>400.0</td>\n",
       "      <td>385129759</td>\n",
       "      <td>NaN</td>\n",
       "      <td>False</td>\n",
       "      <td>NaN</td>\n",
       "      <td>1550073611</td>\n",
       "      <td>{\"id\":2486340,\"name\":\"Sacramento\",\"slug\":\"sacr...</td>\n",
       "      <td>Princess Pals Enamel Pin Series</td>\n",
       "      <td>NaN</td>\n",
       "      <td>{\"key\":\"assets/024/033/030/dea4e3901d10195b035...</td>\n",
       "      <td>2259.0</td>\n",
       "      <td>{\"id\":3665299,\"project_id\":3665299,\"state\":\"in...</td>\n",
       "      <td>princess-pals-enamel-pin-series</td>\n",
       "      <td>https://www.kickstarter.com/discover/categorie...</td>\n",
       "      <td>True</td>\n",
       "      <td>False</td>\n",
       "      <td>successful</td>\n",
       "      <td>1551801611</td>\n",
       "      <td>1.0</td>\n",
       "      <td>{\"web\":{\"project\":\"https://www.kickstarter.com...</td>\n",
       "      <td>2259.0</td>\n",
       "      <td>international</td>\n",
       "    </tr>\n",
       "    <tr>\n",
       "      <th>2</th>\n",
       "      <td>88</td>\n",
       "      <td>Helping a community come together to set the s...</td>\n",
       "      <td>{\"id\":280,\"name\":\"Photobooks\",\"slug\":\"photogra...</td>\n",
       "      <td>29638</td>\n",
       "      <td>US</td>\n",
       "      <td>1477242384</td>\n",
       "      <td>{\"id\":1196856269,\"name\":\"MelissaThomas\",\"is_re...</td>\n",
       "      <td>USD</td>\n",
       "      <td>$</td>\n",
       "      <td>True</td>\n",
       "      <td>USD</td>\n",
       "      <td>1480607930</td>\n",
       "      <td>False</td>\n",
       "      <td>NaN</td>\n",
       "      <td>1.0</td>\n",
       "      <td>27224.0</td>\n",
       "      <td>681033598</td>\n",
       "      <td>NaN</td>\n",
       "      <td>False</td>\n",
       "      <td>NaN</td>\n",
       "      <td>1478012330</td>\n",
       "      <td>{\"id\":2383660,\"name\":\"Columbus\",\"slug\":\"columb...</td>\n",
       "      <td>Their Life Through Their Lens-the Amish and Me...</td>\n",
       "      <td>NaN</td>\n",
       "      <td>{\"key\":\"assets/014/262/672/97944960ba30239051d...</td>\n",
       "      <td>29638.0</td>\n",
       "      <td>{\"id\":2730508,\"project_id\":2730508,\"state\":\"in...</td>\n",
       "      <td>their-life-through-their-lens-the-amish-and-me...</td>\n",
       "      <td>https://www.kickstarter.com/discover/categorie...</td>\n",
       "      <td>True</td>\n",
       "      <td>True</td>\n",
       "      <td>successful</td>\n",
       "      <td>1480607932</td>\n",
       "      <td>1.0</td>\n",
       "      <td>{\"web\":{\"project\":\"https://www.kickstarter.com...</td>\n",
       "      <td>29638.0</td>\n",
       "      <td>international</td>\n",
       "    </tr>\n",
       "  </tbody>\n",
       "</table>\n",
       "</div>"
      ],
      "text/plain": [
       "   backers_count                                              blurb  \\\n",
       "0             21  2006 was almost 7 years ago.... Can you believ...   \n",
       "1             97  An adorable fantasy enamel pin series of princ...   \n",
       "2             88  Helping a community come together to set the s...   \n",
       "\n",
       "                                            category  \\\n",
       "0  {\"id\":43,\"name\":\"Rock\",\"slug\":\"music/rock\",\"po...   \n",
       "1  {\"id\":54,\"name\":\"Mixed Media\",\"slug\":\"art/mixe...   \n",
       "2  {\"id\":280,\"name\":\"Photobooks\",\"slug\":\"photogra...   \n",
       "\n",
       "   converted_pledged_amount country  created_at  \\\n",
       "0                       802      US  1387659690   \n",
       "1                      2259      US  1549659768   \n",
       "2                     29638      US  1477242384   \n",
       "\n",
       "                                             creator currency currency_symbol  \\\n",
       "0  {\"id\":1495925645,\"name\":\"Daniel\",\"is_registere...      USD               $   \n",
       "1  {\"id\":1175589980,\"name\":\"Katherine\",\"slug\":\"fr...      USD               $   \n",
       "2  {\"id\":1196856269,\"name\":\"MelissaThomas\",\"is_re...      USD               $   \n",
       "\n",
       "   currency_trailing_code current_currency    deadline  disable_communication  \\\n",
       "0                    True              USD  1391899046                  False   \n",
       "1                    True              USD  1551801611                  False   \n",
       "2                    True              USD  1480607930                  False   \n",
       "\n",
       "  friends  fx_rate     goal         id is_backing  is_starrable is_starred  \\\n",
       "0     NaN      1.0    200.0  287514992        NaN         False        NaN   \n",
       "1     NaN      1.0    400.0  385129759        NaN         False        NaN   \n",
       "2     NaN      1.0  27224.0  681033598        NaN         False        NaN   \n",
       "\n",
       "   launched_at                                           location  \\\n",
       "0   1388011046  {\"id\":2379574,\"name\":\"Chicago\",\"slug\":\"chicago...   \n",
       "1   1550073611  {\"id\":2486340,\"name\":\"Sacramento\",\"slug\":\"sacr...   \n",
       "2   1478012330  {\"id\":2383660,\"name\":\"Columbus\",\"slug\":\"columb...   \n",
       "\n",
       "                                                name permissions  \\\n",
       "0                              New Final Round Album         NaN   \n",
       "1                    Princess Pals Enamel Pin Series         NaN   \n",
       "2  Their Life Through Their Lens-the Amish and Me...         NaN   \n",
       "\n",
       "                                               photo  pledged  \\\n",
       "0  {\"key\":\"assets/011/625/534/5bea1760d7f20943c4c...    802.0   \n",
       "1  {\"key\":\"assets/024/033/030/dea4e3901d10195b035...   2259.0   \n",
       "2  {\"key\":\"assets/014/262/672/97944960ba30239051d...  29638.0   \n",
       "\n",
       "                                             profile  \\\n",
       "0  {\"id\":822687,\"project_id\":822687,\"state\":\"inac...   \n",
       "1  {\"id\":3665299,\"project_id\":3665299,\"state\":\"in...   \n",
       "2  {\"id\":2730508,\"project_id\":2730508,\"state\":\"in...   \n",
       "\n",
       "                                                slug  \\\n",
       "0                              new-final-round-album   \n",
       "1                    princess-pals-enamel-pin-series   \n",
       "2  their-life-through-their-lens-the-amish-and-me...   \n",
       "\n",
       "                                          source_url  spotlight  staff_pick  \\\n",
       "0  https://www.kickstarter.com/discover/categorie...       True       False   \n",
       "1  https://www.kickstarter.com/discover/categorie...       True       False   \n",
       "2  https://www.kickstarter.com/discover/categorie...       True        True   \n",
       "\n",
       "        state  state_changed_at  static_usd_rate  \\\n",
       "0  successful        1391899046              1.0   \n",
       "1  successful        1551801611              1.0   \n",
       "2  successful        1480607932              1.0   \n",
       "\n",
       "                                                urls  usd_pledged  \\\n",
       "0  {\"web\":{\"project\":\"https://www.kickstarter.com...        802.0   \n",
       "1  {\"web\":{\"project\":\"https://www.kickstarter.com...       2259.0   \n",
       "2  {\"web\":{\"project\":\"https://www.kickstarter.com...      29638.0   \n",
       "\n",
       "        usd_type  \n",
       "0  international  \n",
       "1  international  \n",
       "2  international  "
      ]
     },
     "execution_count": 286,
     "metadata": {},
     "output_type": "execute_result"
    }
   ],
   "source": [
    "df.head(3)"
   ]
  },
  {
   "cell_type": "markdown",
   "metadata": {},
   "source": [
    "The resulting dataframe contains 209,222 projects."
   ]
  },
  {
   "cell_type": "code",
   "execution_count": 287,
   "metadata": {},
   "outputs": [
    {
     "data": {
      "text/plain": [
       "209222"
      ]
     },
     "execution_count": 287,
     "metadata": {},
     "output_type": "execute_result"
    }
   ],
   "source": [
    "len(df)"
   ]
  },
  {
   "cell_type": "markdown",
   "metadata": {},
   "source": [
    "***\n",
    "# Scrubbing the data"
   ]
  },
  {
   "cell_type": "markdown",
   "metadata": {},
   "source": [
    "In this section..."
   ]
  },
  {
   "cell_type": "markdown",
   "metadata": {},
   "source": [
    "**Inspecting and dropping columns**"
   ]
  },
  {
   "cell_type": "code",
   "execution_count": 288,
   "metadata": {},
   "outputs": [
    {
     "data": {
      "text/plain": [
       "Index(['backers_count', 'blurb', 'category', 'converted_pledged_amount',\n",
       "       'country', 'created_at', 'creator', 'currency', 'currency_symbol',\n",
       "       'currency_trailing_code', 'current_currency', 'deadline',\n",
       "       'disable_communication', 'friends', 'fx_rate', 'goal', 'id',\n",
       "       'is_backing', 'is_starrable', 'is_starred', 'launched_at', 'location',\n",
       "       'name', 'permissions', 'photo', 'pledged', 'profile', 'slug',\n",
       "       'source_url', 'spotlight', 'staff_pick', 'state', 'state_changed_at',\n",
       "       'static_usd_rate', 'urls', 'usd_pledged', 'usd_type'],\n",
       "      dtype='object')"
      ]
     },
     "execution_count": 288,
     "metadata": {},
     "output_type": "execute_result"
    }
   ],
   "source": [
    "# Checking the columns\n",
    "df.columns"
   ]
  },
  {
   "cell_type": "markdown",
   "metadata": {},
   "source": [
    "Description of each column...\n",
    "\n",
    "- \n",
    "- disable_communication - whether or not a project owner disabled communication with their backers\n",
    "- is_starrable - whether or not a project has been starred (liked and saved) by users"
   ]
  },
  {
   "cell_type": "code",
   "execution_count": 289,
   "metadata": {
    "scrolled": true
   },
   "outputs": [
    {
     "name": "stdout",
     "output_type": "stream",
     "text": [
      "Of the 209222 projects in the dataset, there are 26958 which are listed more than once.\n"
     ]
    }
   ],
   "source": [
    "# Checking for duplicates of individual projects\n",
    "print(f\"Of the {len(df)} projects in the dataset, there are {len(df[df.duplicated(subset='id')])} which are listed more than once.\")"
   ]
  },
  {
   "cell_type": "markdown",
   "metadata": {},
   "source": [
    "Duplicates are an issue in this dataset and will need to be dealt with. Further cleaning of the data will help clarify which duplicates, if any, need to be removed."
   ]
  },
  {
   "cell_type": "code",
   "execution_count": 290,
   "metadata": {
    "scrolled": true
   },
   "outputs": [
    {
     "name": "stdout",
     "output_type": "stream",
     "text": [
      "<class 'pandas.core.frame.DataFrame'>\n",
      "RangeIndex: 209222 entries, 0 to 209221\n",
      "Data columns (total 37 columns):\n",
      "backers_count               209222 non-null int64\n",
      "blurb                       209214 non-null object\n",
      "category                    209222 non-null object\n",
      "converted_pledged_amount    209222 non-null int64\n",
      "country                     209222 non-null object\n",
      "created_at                  209222 non-null int64\n",
      "creator                     209222 non-null object\n",
      "currency                    209222 non-null object\n",
      "currency_symbol             209222 non-null object\n",
      "currency_trailing_code      209222 non-null bool\n",
      "current_currency            209222 non-null object\n",
      "deadline                    209222 non-null int64\n",
      "disable_communication       209222 non-null bool\n",
      "friends                     300 non-null object\n",
      "fx_rate                     209222 non-null float64\n",
      "goal                        209222 non-null float64\n",
      "id                          209222 non-null int64\n",
      "is_backing                  300 non-null object\n",
      "is_starrable                209222 non-null bool\n",
      "is_starred                  300 non-null object\n",
      "launched_at                 209222 non-null int64\n",
      "location                    208996 non-null object\n",
      "name                        209222 non-null object\n",
      "permissions                 300 non-null object\n",
      "photo                       209222 non-null object\n",
      "pledged                     209222 non-null float64\n",
      "profile                     209222 non-null object\n",
      "slug                        209222 non-null object\n",
      "source_url                  209222 non-null object\n",
      "spotlight                   209222 non-null bool\n",
      "staff_pick                  209222 non-null bool\n",
      "state                       209222 non-null object\n",
      "state_changed_at            209222 non-null int64\n",
      "static_usd_rate             209222 non-null float64\n",
      "urls                        209222 non-null object\n",
      "usd_pledged                 209222 non-null float64\n",
      "usd_type                    208742 non-null object\n",
      "dtypes: bool(5), float64(5), int64(7), object(20)\n",
      "memory usage: 52.1+ MB\n"
     ]
    }
   ],
   "source": [
    "# Checking column information\n",
    "df.info()"
   ]
  },
  {
   "cell_type": "markdown",
   "metadata": {},
   "source": [
    "Some columns contain very few nun-null entries, and can be dropped:"
   ]
  },
  {
   "cell_type": "code",
   "execution_count": 291,
   "metadata": {},
   "outputs": [],
   "source": [
    "# Dropping columns that are mostly null\n",
    "df.drop(['friends', 'is_backing', 'is_starred', 'permissions'], axis=1, inplace=True)"
   ]
  },
  {
   "cell_type": "markdown",
   "metadata": {},
   "source": [
    "Other columns are not useful for the purposes of this project, and can also be dropped:\n",
    "\n",
    "- converted_pledged_amount - most currencies are converted into USD in this column, but not all. Instead, the 'usd_pledged' column will be used as these all use the same currency (the dollar).\n",
    "- creator - most projects are by different people, and so this cannot be usefully used to group or categorise projects, and is not useful in a machine learning context.\n",
    "- currency - all currency values will be used as/converted to dollars, so that they can be evaluated together. It is not necessary to keep the original record because of this, and because it will be highly correlated with country (which will be kept).\n",
    "- currency_symbol - as above.\n",
    "- currency_trailing_code - as above.\n",
    "- current_currency - as above.\n",
    "- fx_rate - this is used to create 'converted_pledged_amount' from 'pledged', but does not always convert to dollars so can be dropped in favour of 'static_usd_rate' which always converts to dollars.\n",
    "- photo - image processing/computer vision will not be used in this project.\n",
    "- pledged - data in this column is stored in native currencies, so this will be dropped in favour of 'usd_pledged' which is all in the same currency (dollars).\n",
    "- profile - this column contains a combination of information from other columns (e.g. id, state, dates, url).\n",
    "- slug - this is simply the 'name' column with hyphens instead of spaces.\n",
    "- source_url - the sites that the rows were each scraped from is not useful for building a model, as each is unique to an id.\n",
    "- spotlight - projects can only be spotlighted after they are already successful, so this will be entirely correlated with successful projects.\n",
    "- state_changed_at - this is the same as deadline for most projects. The only exceptions are for projects which were cancelled before their deadline, but they will not be included in this analysis.\n",
    "- urls - as with source_url.\n",
    "- usd_type - it is unclear what this column means, but it is unlikely to be necessary since all currency values will be converted to dollars, and other currency information has been dropped."
   ]
  },
  {
   "cell_type": "code",
   "execution_count": 292,
   "metadata": {
    "scrolled": true
   },
   "outputs": [],
   "source": [
    "# Dropping columns that aren't useful\n",
    "df.drop(['converted_pledged_amount', 'creator', 'currency', 'currency_symbol', 'currency_trailing_code', 'current_currency', 'fx_rate', 'photo', 'pledged', 'profile', 'slug', 'source_url', 'spotlight', 'state_changed_at', 'urls', 'usd_type'], axis=1, inplace=True)"
   ]
  },
  {
   "cell_type": "markdown",
   "metadata": {},
   "source": [
    "**Converting datetime columns**"
   ]
  },
  {
   "cell_type": "markdown",
   "metadata": {},
   "source": [
    "Columns containing dates are currently stored in unix time, and need to be converted to datetime. Because they have been converted from unix, all times are in UTC/GMT."
   ]
  },
  {
   "cell_type": "code",
   "execution_count": 293,
   "metadata": {},
   "outputs": [],
   "source": [
    "# Converting dates from unix to datetime\n",
    "cols_to_convert = ['created_at', 'deadline', 'launched_at']\n",
    "for c in cols_to_convert:\n",
    "    df[c] = pd.to_datetime(df[c], origin='unix', unit='s')"
   ]
  },
  {
   "cell_type": "code",
   "execution_count": 294,
   "metadata": {
    "scrolled": true
   },
   "outputs": [
    {
     "name": "stdout",
     "output_type": "stream",
     "text": [
      "The dataset contains projects added to Kickstarter between 22 April 2009 and 14 March 2019.\n"
     ]
    }
   ],
   "source": [
    "print(f\"The dataset contains projects added to Kickstarter between {min(df.created_at).strftime('%d %B %Y')} and {max(df.created_at).strftime('%d %B %Y')}.\")"
   ]
  },
  {
   "cell_type": "markdown",
   "metadata": {},
   "source": [
    "Individual columns will now be pre-processed, and additional features engineered, where necessary."
   ]
  },
  {
   "cell_type": "markdown",
   "metadata": {},
   "source": [
    "**Blurb**"
   ]
  },
  {
   "cell_type": "markdown",
   "metadata": {},
   "source": [
    "Natural language processing is beyond the scope of this project. The length of the blurbs written by project creators will be calculated though, in case this is useful for the model (e.g. people preferring to read shorter or longer blurbs when choosing what to fund). The original blurb variable will then be dropped."
   ]
  },
  {
   "cell_type": "code",
   "execution_count": 295,
   "metadata": {},
   "outputs": [],
   "source": [
    "# Count length of each blurb\n",
    "df['blurb_length'] = df['blurb'].str.split().str.len()\n",
    "\n",
    "# Drop blurb variable\n",
    "df.drop('blurb', axis=1, inplace=True)"
   ]
  },
  {
   "cell_type": "markdown",
   "metadata": {},
   "source": [
    "**Category**"
   ]
  },
  {
   "cell_type": "markdown",
   "metadata": {},
   "source": [
    "The category variable is currently stored as a string, although it was clearly originally a dictionary. The example below shows that each project has both a category (e.g. games) and a sub-category (e.g. tabletop games). Both will be extracted."
   ]
  },
  {
   "cell_type": "code",
   "execution_count": 296,
   "metadata": {},
   "outputs": [
    {
     "data": {
      "text/plain": [
       "'{\"id\":43,\"name\":\"Rock\",\"slug\":\"music/rock\",\"position\":17,\"parent_id\":14,\"color\":10878931,\"urls\":{\"web\":{\"discover\":\"http://www.kickstarter.com/discover/categories/music/rock\"}}}'"
      ]
     },
     "execution_count": 296,
     "metadata": {},
     "output_type": "execute_result"
    }
   ],
   "source": [
    "# Example category value\n",
    "df.iloc[0]['category']"
   ]
  },
  {
   "cell_type": "code",
   "execution_count": 326,
   "metadata": {
    "scrolled": true
   },
   "outputs": [],
   "source": [
    "# Extracting the relevant sub-category section from the string\n",
    "f = lambda x: x['category'].split('/')[1].split('\",\"position')[0]\n",
    "df['sub_category'] = df.apply(f, axis=1)\n",
    "\n",
    "# Extracting the relevant category section from the string, and replacing the original category variable\n",
    "f = lambda x: x['category'].split('\"slug\":\"')[1].split('/')[0]\n",
    "df['category'] = df.apply(f, axis=1)\n",
    "f = lambda x: x['category'].split('\",\"position\"')[0] # Some categories do not have a sub-category, so do not have a '/' to split with\n",
    "df['category'] = df.apply(f, axis=1)"
   ]
  },
  {
   "cell_type": "code",
   "execution_count": 330,
   "metadata": {
    "scrolled": true
   },
   "outputs": [
    {
     "name": "stdout",
     "output_type": "stream",
     "text": [
      "There are 15 unique categories and 145 unique sub-categories.\n"
     ]
    }
   ],
   "source": [
    "# Counting the number of unique categories\n",
    "print(f\"There are {df.category.nunique()} unique categories and {df.sub_category.nunique()} unique sub-categories.\")"
   ]
  },
  {
   "cell_type": "markdown",
   "metadata": {},
   "source": [
    "**Disable_communication**"
   ]
  },
  {
   "cell_type": "markdown",
   "metadata": {},
   "source": [
    "99.7% of project owners did not disable communication with their backers (unsurprisingly). Because nearly all projects have the same value for this variable, it will be dropped as it does not provide much information."
   ]
  },
  {
   "cell_type": "code",
   "execution_count": 332,
   "metadata": {},
   "outputs": [
    {
     "data": {
      "text/plain": [
       "False    0.997022\n",
       "True     0.002978\n",
       "Name: disable_communication, dtype: float64"
      ]
     },
     "execution_count": 332,
     "metadata": {},
     "output_type": "execute_result"
    }
   ],
   "source": [
    "# Checking the proportions of each category\n",
    "df.disable_communication.value_counts(normalize=True)"
   ]
  },
  {
   "cell_type": "code",
   "execution_count": 333,
   "metadata": {},
   "outputs": [],
   "source": [
    "df.drop('disable_communication', axis=1, inplace=True)"
   ]
  },
  {
   "cell_type": "markdown",
   "metadata": {},
   "source": [
    "**Goal**"
   ]
  },
  {
   "cell_type": "markdown",
   "metadata": {},
   "source": [
    "The goal amount of funding for each project is currently recorded in native currencies. In order to allow for fair comparisons between projects, goal will be converted into dollars (as amount pledged already is)."
   ]
  },
  {
   "cell_type": "code",
   "execution_count": 334,
   "metadata": {},
   "outputs": [],
   "source": [
    "# Calculate new column 'usd_goal' as goal * static_usd_rate\n",
    "df['usd_goal'] = round(df['goal'] * df['static_usd_rate'],2)"
   ]
  },
  {
   "cell_type": "code",
   "execution_count": 335,
   "metadata": {},
   "outputs": [],
   "source": [
    "# Dropping goal and static_usd_rate\n",
    "df.drop(['goal', 'static_usd_rate'], axis=1, inplace=True)"
   ]
  },
  {
   "cell_type": "markdown",
   "metadata": {},
   "source": [
    "**Is_starrable**"
   ]
  },
  {
   "cell_type": "markdown",
   "metadata": {},
   "source": [
    "Only 3.3% of projects were starred by users. Although this is only a very small proportion, whether or not a project was liked and saved by users is likely to be informative about whether or not a project was successful, so the variable will be kept."
   ]
  },
  {
   "cell_type": "code",
   "execution_count": 337,
   "metadata": {},
   "outputs": [
    {
     "data": {
      "text/plain": [
       "False    0.967403\n",
       "True     0.032597\n",
       "Name: is_starrable, dtype: float64"
      ]
     },
     "execution_count": 337,
     "metadata": {},
     "output_type": "execute_result"
    }
   ],
   "source": [
    "# Figure out what this is, and do a count_values() to figure out whether it's worth including or mostly FALSE\n",
    "df.is_starrable.value_counts(normalize=True)"
   ]
  },
  {
   "cell_type": "markdown",
   "metadata": {},
   "source": [
    "**Location**"
   ]
  },
  {
   "cell_type": "markdown",
   "metadata": {},
   "source": [
    "The location field contains the town/city that a project originates from, as well as the country. There are a large number (15,235) of unique locations. Because the country is already recorded separately in the country field, and there are such a large number of unique categories (making one-hot encoding not useful, particularly as there are likely to be a lot of smaller towns and cities with very few projects), the column will be dropped."
   ]
  },
  {
   "cell_type": "code",
   "execution_count": 338,
   "metadata": {},
   "outputs": [
    {
     "data": {
      "text/plain": [
       "'{\"id\":2379574,\"name\":\"Chicago\",\"slug\":\"chicago-il\",\"short_name\":\"Chicago, IL\",\"displayable_name\":\"Chicago, IL\",\"localized_name\":\"Chicago\",\"country\":\"US\",\"state\":\"IL\",\"type\":\"Town\",\"is_root\":false,\"urls\":{\"web\":{\"discover\":\"https://www.kickstarter.com/discover/places/chicago-il\",\"location\":\"https://www.kickstarter.com/locations/chicago-il\"},\"api\":{\"nearby_projects\":\"https://api.kickstarter.com/v1/discover?signature=1552595044.c1041c6bca69b0b72738f3b9504ebf921b3e5e0e&woe_id=2379574\"}}}'"
      ]
     },
     "execution_count": 338,
     "metadata": {},
     "output_type": "execute_result"
    }
   ],
   "source": [
    "# Example location value\n",
    "df.iloc[0]['location']"
   ]
  },
  {
   "cell_type": "code",
   "execution_count": 339,
   "metadata": {},
   "outputs": [
    {
     "data": {
      "text/plain": [
       "15235"
      ]
     },
     "execution_count": 339,
     "metadata": {},
     "output_type": "execute_result"
    }
   ],
   "source": [
    "# Counting the number of unique locations\n",
    "df.location.nunique()"
   ]
  },
  {
   "cell_type": "code",
   "execution_count": 340,
   "metadata": {},
   "outputs": [],
   "source": [
    "# Dropping location\n",
    "df.drop('location', axis=1, inplace=True)"
   ]
  },
  {
   "cell_type": "markdown",
   "metadata": {},
   "source": [
    "**Name**"
   ]
  },
  {
   "cell_type": "markdown",
   "metadata": {},
   "source": [
    "The length of project names will be calculated, in case this is useful for the model. The original name variable will then be dropped."
   ]
  },
  {
   "cell_type": "code",
   "execution_count": 341,
   "metadata": {},
   "outputs": [],
   "source": [
    "# Count length of each name\n",
    "df['name_length'] = df['name'].str.split().str.len()\n",
    "# Drop name variable\n",
    "df.drop('name', axis=1, inplace=True)"
   ]
  },
  {
   "cell_type": "markdown",
   "metadata": {},
   "source": [
    "**Usd_pledged**"
   ]
  },
  {
   "cell_type": "markdown",
   "metadata": {},
   "source": [
    "This column requires rounding to two decimal places."
   ]
  },
  {
   "cell_type": "code",
   "execution_count": 342,
   "metadata": {},
   "outputs": [],
   "source": [
    "df['usd_pledged'] = round(df['usd_pledged'],2)"
   ]
  },
  {
   "cell_type": "markdown",
   "metadata": {},
   "source": [
    "**Additional calculated features**"
   ]
  },
  {
   "cell_type": "markdown",
   "metadata": {},
   "source": [
    "Additional features can be calculated from the existing features, which may also help to predict whether a project is successfully funded. The features to be added are: time from creation to launch, campaign length, launch day of week, deadline day of week, launch month, deadline month, launch time of day, deadline time of day. Original datetime values will be kept in for now for EDA purposes, but will be removed later, before modeling."
   ]
  },
  {
   "cell_type": "code",
   "execution_count": 343,
   "metadata": {},
   "outputs": [],
   "source": [
    "# Time between creating and launching a project\n",
    "df['creation_to_launch_days'] = df['launched_at'] - df['created_at']\n",
    "df['creation_to_launch_days'] = df['creation_to_launch_days'].dt.round('d').dt.days # Rounding to nearest days, then showing as number only\n",
    "# Or could show as number of hours:\n",
    "# df['creation_to_launch_hours'] = df['launched_at'] - df['created_at']\n",
    "# df['creation_to_launch_hours'] = df['creation_to_launch_hours'].dt.round('h') / np.timedelta64(1, 'h') \n",
    "\n",
    "# Campaign length\n",
    "df['campaign_days'] = df['deadline'] - df['launched_at']\n",
    "df['campaign_days'] = df['campaign_days'].dt.round('d').dt.days # Rounding to nearest days, then showing as number only\n",
    "\n",
    "# Launch day of week\n",
    "df['launch_day'] = df['launched_at'].dt.weekday_name\n",
    "\n",
    "# Deadline day of week\n",
    "df['deadline_day'] = df['deadline'].dt.weekday_name\n",
    "\n",
    "# Launch month\n",
    "df['launch_month'] = df['launched_at'].dt.month_name()\n",
    "\n",
    "# Deadline month\n",
    "df['deadline_month'] = df['deadline'].dt.month_name()"
   ]
  },
  {
   "cell_type": "code",
   "execution_count": 344,
   "metadata": {
    "scrolled": true
   },
   "outputs": [],
   "source": [
    "# Launch time\n",
    "df['launch_hour'] = df['launched_at'].dt.hour # Extracting hour from launched_at\n",
    "\n",
    "def two_hour_launch(row):\n",
    "    '''Creates two hour bins from the launch_hour column'''\n",
    "    if row['launch_hour'] in (0,1):\n",
    "        return '12am-2am'\n",
    "    if row['launch_hour'] in (2,3):\n",
    "        return '2am-4am'\n",
    "    if row['launch_hour'] in (4,5):\n",
    "        return '4am-6am'\n",
    "    if row['launch_hour'] in (6,7):\n",
    "        return '6am-8am'\n",
    "    if row['launch_hour'] in (8,9):\n",
    "        return '8am-10am'\n",
    "    if row['launch_hour'] in (10,11):\n",
    "        return '10am-12pm'\n",
    "    if row['launch_hour'] in (12,13):\n",
    "        return '12pm-2pm'\n",
    "    if row['launch_hour'] in (14,15):\n",
    "        return '2pm-4pm'\n",
    "    if row['launch_hour'] in (16,17):\n",
    "        return '4pm-6pm'\n",
    "    if row['launch_hour'] in (18,19):\n",
    "        return '6pm-8pm'\n",
    "    if row['launch_hour'] in (20,21):\n",
    "        return '8pm-10pm'\n",
    "    if row['launch_hour'] in (22,23):\n",
    "        return '10pm-12am'\n",
    "    \n",
    "df['launch_time'] = df.apply(two_hour_launch, axis=1) # Calculates bins from launch_time\n",
    "\n",
    "df.drop('launch_hour', axis=1, inplace=True)"
   ]
  },
  {
   "cell_type": "code",
   "execution_count": 345,
   "metadata": {},
   "outputs": [],
   "source": [
    "# Deadline time\n",
    "df['deadline_hour'] = df['deadline'].dt.hour # Extracting hour from deadline\n",
    "\n",
    "def two_hour_deadline(row):\n",
    "    '''Creates two hour bins from the deadline_hour column'''\n",
    "    if row['deadline_hour'] in (0,1):\n",
    "        return '12am-2am'\n",
    "    if row['deadline_hour'] in (2,3):\n",
    "        return '2am-4am'\n",
    "    if row['deadline_hour'] in (4,5):\n",
    "        return '4am-6am'\n",
    "    if row['deadline_hour'] in (6,7):\n",
    "        return '6am-8am'\n",
    "    if row['deadline_hour'] in (8,9):\n",
    "        return '8am-10am'\n",
    "    if row['deadline_hour'] in (10,11):\n",
    "        return '10am-12pm'\n",
    "    if row['deadline_hour'] in (12,13):\n",
    "        return '12pm-2pm'\n",
    "    if row['deadline_hour'] in (14,15):\n",
    "        return '2pm-4pm'\n",
    "    if row['deadline_hour'] in (16,17):\n",
    "        return '4pm-6pm'\n",
    "    if row['deadline_hour'] in (18,19):\n",
    "        return '6pm-8pm'\n",
    "    if row['deadline_hour'] in (20,21):\n",
    "        return '8pm-10pm'\n",
    "    if row['deadline_hour'] in (22,23):\n",
    "        return '10pm-12am'\n",
    "    \n",
    "df['deadline_time'] = df.apply(two_hour_deadline, axis=1) # Calculates bins from launch_time\n",
    "\n",
    "df.drop('deadline_hour', axis=1, inplace=True)"
   ]
  },
  {
   "cell_type": "markdown",
   "metadata": {},
   "source": [
    "**Checking for null values**"
   ]
  },
  {
   "cell_type": "code",
   "execution_count": 346,
   "metadata": {
    "scrolled": true
   },
   "outputs": [
    {
     "data": {
      "text/plain": [
       "backers_count              0\n",
       "category                   0\n",
       "country                    0\n",
       "created_at                 0\n",
       "deadline                   0\n",
       "id                         0\n",
       "is_starrable               0\n",
       "launched_at                0\n",
       "staff_pick                 0\n",
       "state                      0\n",
       "usd_pledged                0\n",
       "blurb_length               8\n",
       "sub_category               0\n",
       "usd_goal                   0\n",
       "name_length                0\n",
       "creation_to_launch_days    0\n",
       "campaign_days              0\n",
       "launch_day                 0\n",
       "deadline_day               0\n",
       "launch_month               0\n",
       "deadline_month             0\n",
       "launch_time                0\n",
       "deadline_time              0\n",
       "dtype: int64"
      ]
     },
     "execution_count": 346,
     "metadata": {},
     "output_type": "execute_result"
    }
   ],
   "source": [
    "df.isna().sum()"
   ]
  },
  {
   "cell_type": "markdown",
   "metadata": {},
   "source": [
    "There are eight projects without a blurb_length, i.e. without a blurb. These can be replaced with a length of 0."
   ]
  },
  {
   "cell_type": "code",
   "execution_count": 347,
   "metadata": {},
   "outputs": [],
   "source": [
    "# Replacing null values for blurb_length with 0\n",
    "df.blurb_length.fillna(0, inplace=True)"
   ]
  },
  {
   "cell_type": "code",
   "execution_count": 348,
   "metadata": {},
   "outputs": [
    {
     "data": {
      "text/plain": [
       "0"
      ]
     },
     "execution_count": 348,
     "metadata": {},
     "output_type": "execute_result"
    }
   ],
   "source": [
    "# Confirming there are no null values remaining\n",
    "df.isna().sum().sum()"
   ]
  },
  {
   "cell_type": "markdown",
   "metadata": {},
   "source": [
    "**Dropping rows**"
   ]
  },
  {
   "cell_type": "markdown",
   "metadata": {},
   "source": [
    "This project aims to predict whether projects succeed or fail. The dataset also includes canceled, live (i.e. not yet finished) and suspended projects. These will now be removed."
   ]
  },
  {
   "cell_type": "code",
   "execution_count": 349,
   "metadata": {},
   "outputs": [
    {
     "data": {
      "text/plain": [
       "successful    117465\n",
       "failed         75199\n",
       "canceled        8624\n",
       "live            7311\n",
       "suspended        623\n",
       "Name: state, dtype: int64"
      ]
     },
     "execution_count": 349,
     "metadata": {},
     "output_type": "execute_result"
    }
   ],
   "source": [
    "# Number of projects of different states\n",
    "df.state.value_counts()"
   ]
  },
  {
   "cell_type": "code",
   "execution_count": 350,
   "metadata": {},
   "outputs": [],
   "source": [
    "# Dropping projects which are not successes or failures\n",
    "df = df[df['state'].isin(['successful', 'failed'])]"
   ]
  },
  {
   "cell_type": "code",
   "execution_count": 351,
   "metadata": {
    "scrolled": true
   },
   "outputs": [
    {
     "data": {
      "text/plain": [
       "Timestamp('2019-03-14 04:06:01')"
      ]
     },
     "execution_count": 351,
     "metadata": {},
     "output_type": "execute_result"
    }
   ],
   "source": [
    "# Confirming that the most recent deadline is the day on which the data was scraped, i.e. there are no projects which have yet to be resolved into either successes or failures\n",
    "max(df.deadline)"
   ]
  },
  {
   "cell_type": "markdown",
   "metadata": {},
   "source": [
    "**Dropping duplicates**"
   ]
  },
  {
   "cell_type": "markdown",
   "metadata": {},
   "source": [
    "As demonstrated above, some projects are included in the dataset more than once. Duplicates will now be assessed and removed."
   ]
  },
  {
   "cell_type": "code",
   "execution_count": 352,
   "metadata": {
    "scrolled": true
   },
   "outputs": [
    {
     "name": "stdout",
     "output_type": "stream",
     "text": [
      "Of the 192664 projects in the dataset, there are 23685 which are listed more than once.\n",
      "Of these, 23674 have every value in common between duplicates.\n"
     ]
    }
   ],
   "source": [
    "# Checking for duplicates of individual projects, and sorting by id\n",
    "duplicates = df[df.duplicated(subset='id')]\n",
    "print(f\"Of the {len(df)} projects in the dataset, there are {len(df[df.duplicated(subset='id')])} which are listed more than once.\")\n",
    "print(f\"Of these, {len(df[df.duplicated()])} have every value in common between duplicates.\")"
   ]
  },
  {
   "cell_type": "code",
   "execution_count": 353,
   "metadata": {},
   "outputs": [],
   "source": [
    "# Dropping duplicates which have every value in common\n",
    "df.drop_duplicates(inplace=True)"
   ]
  },
  {
   "cell_type": "code",
   "execution_count": 354,
   "metadata": {},
   "outputs": [
    {
     "data": {
      "text/plain": [
       "168990"
      ]
     },
     "execution_count": 354,
     "metadata": {},
     "output_type": "execute_result"
    }
   ],
   "source": [
    "len(df)"
   ]
  },
  {
   "cell_type": "code",
   "execution_count": 355,
   "metadata": {
    "scrolled": true
   },
   "outputs": [
    {
     "name": "stdout",
     "output_type": "stream",
     "text": [
      "11 duplicated projects remain.\n"
     ]
    },
    {
     "data": {
      "text/html": [
       "<div>\n",
       "<style scoped>\n",
       "    .dataframe tbody tr th:only-of-type {\n",
       "        vertical-align: middle;\n",
       "    }\n",
       "\n",
       "    .dataframe tbody tr th {\n",
       "        vertical-align: top;\n",
       "    }\n",
       "\n",
       "    .dataframe thead th {\n",
       "        text-align: right;\n",
       "    }\n",
       "</style>\n",
       "<table border=\"1\" class=\"dataframe\">\n",
       "  <thead>\n",
       "    <tr style=\"text-align: right;\">\n",
       "      <th></th>\n",
       "      <th>backers_count</th>\n",
       "      <th>category</th>\n",
       "      <th>country</th>\n",
       "      <th>created_at</th>\n",
       "      <th>deadline</th>\n",
       "      <th>id</th>\n",
       "      <th>is_starrable</th>\n",
       "      <th>launched_at</th>\n",
       "      <th>staff_pick</th>\n",
       "      <th>state</th>\n",
       "      <th>usd_pledged</th>\n",
       "      <th>blurb_length</th>\n",
       "      <th>sub_category</th>\n",
       "      <th>usd_goal</th>\n",
       "      <th>name_length</th>\n",
       "      <th>creation_to_launch_days</th>\n",
       "      <th>campaign_days</th>\n",
       "      <th>launch_day</th>\n",
       "      <th>deadline_day</th>\n",
       "      <th>launch_month</th>\n",
       "      <th>deadline_month</th>\n",
       "      <th>launch_time</th>\n",
       "      <th>deadline_time</th>\n",
       "    </tr>\n",
       "  </thead>\n",
       "  <tbody>\n",
       "    <tr>\n",
       "      <th>197835</th>\n",
       "      <td>1675</td>\n",
       "      <td>games</td>\n",
       "      <td>NZ</td>\n",
       "      <td>2018-05-30 04:51:55</td>\n",
       "      <td>2018-12-18 04:00:00</td>\n",
       "      <td>122079667</td>\n",
       "      <td>False</td>\n",
       "      <td>2018-11-21 02:04:29</td>\n",
       "      <td>False</td>\n",
       "      <td>successful</td>\n",
       "      <td>200537.60</td>\n",
       "      <td>12.0</td>\n",
       "      <td>tabletop games</td>\n",
       "      <td>342.10</td>\n",
       "      <td>4</td>\n",
       "      <td>175</td>\n",
       "      <td>27</td>\n",
       "      <td>Wednesday</td>\n",
       "      <td>Tuesday</td>\n",
       "      <td>November</td>\n",
       "      <td>December</td>\n",
       "      <td>2am-4am</td>\n",
       "      <td>4am-6am</td>\n",
       "    </tr>\n",
       "    <tr>\n",
       "      <th>144698</th>\n",
       "      <td>1675</td>\n",
       "      <td>games</td>\n",
       "      <td>NZ</td>\n",
       "      <td>2018-05-30 04:51:55</td>\n",
       "      <td>2018-12-18 04:00:00</td>\n",
       "      <td>122079667</td>\n",
       "      <td>False</td>\n",
       "      <td>2018-11-21 02:04:29</td>\n",
       "      <td>False</td>\n",
       "      <td>successful</td>\n",
       "      <td>200710.36</td>\n",
       "      <td>12.0</td>\n",
       "      <td>tabletop games</td>\n",
       "      <td>342.40</td>\n",
       "      <td>4</td>\n",
       "      <td>175</td>\n",
       "      <td>27</td>\n",
       "      <td>Wednesday</td>\n",
       "      <td>Tuesday</td>\n",
       "      <td>November</td>\n",
       "      <td>December</td>\n",
       "      <td>2am-4am</td>\n",
       "      <td>4am-6am</td>\n",
       "    </tr>\n",
       "    <tr>\n",
       "      <th>124657</th>\n",
       "      <td>32</td>\n",
       "      <td>art</td>\n",
       "      <td>CA</td>\n",
       "      <td>2018-05-07 22:52:48</td>\n",
       "      <td>2018-05-30 01:00:00</td>\n",
       "      <td>123735637</td>\n",
       "      <td>False</td>\n",
       "      <td>2018-05-08 01:43:43</td>\n",
       "      <td>False</td>\n",
       "      <td>successful</td>\n",
       "      <td>669.56</td>\n",
       "      <td>13.0</td>\n",
       "      <td>illustration</td>\n",
       "      <td>466.97</td>\n",
       "      <td>10</td>\n",
       "      <td>0</td>\n",
       "      <td>22</td>\n",
       "      <td>Tuesday</td>\n",
       "      <td>Wednesday</td>\n",
       "      <td>May</td>\n",
       "      <td>May</td>\n",
       "      <td>12am-2am</td>\n",
       "      <td>12am-2am</td>\n",
       "    </tr>\n",
       "    <tr>\n",
       "      <th>106307</th>\n",
       "      <td>32</td>\n",
       "      <td>art</td>\n",
       "      <td>CA</td>\n",
       "      <td>2018-05-07 22:52:48</td>\n",
       "      <td>2018-05-30 01:00:00</td>\n",
       "      <td>123735637</td>\n",
       "      <td>False</td>\n",
       "      <td>2018-05-08 01:43:43</td>\n",
       "      <td>False</td>\n",
       "      <td>successful</td>\n",
       "      <td>669.10</td>\n",
       "      <td>13.0</td>\n",
       "      <td>illustration</td>\n",
       "      <td>466.65</td>\n",
       "      <td>10</td>\n",
       "      <td>0</td>\n",
       "      <td>22</td>\n",
       "      <td>Tuesday</td>\n",
       "      <td>Wednesday</td>\n",
       "      <td>May</td>\n",
       "      <td>May</td>\n",
       "      <td>12am-2am</td>\n",
       "      <td>12am-2am</td>\n",
       "    </tr>\n",
       "    <tr>\n",
       "      <th>105017</th>\n",
       "      <td>18</td>\n",
       "      <td>photography</td>\n",
       "      <td>FR</td>\n",
       "      <td>2017-11-06 23:50:45</td>\n",
       "      <td>2018-01-06 02:53:04</td>\n",
       "      <td>299750696</td>\n",
       "      <td>False</td>\n",
       "      <td>2017-12-02 02:53:04</td>\n",
       "      <td>False</td>\n",
       "      <td>successful</td>\n",
       "      <td>1654.77</td>\n",
       "      <td>18.0</td>\n",
       "      <td>photobooks</td>\n",
       "      <td>1423.46</td>\n",
       "      <td>8</td>\n",
       "      <td>25</td>\n",
       "      <td>35</td>\n",
       "      <td>Saturday</td>\n",
       "      <td>Saturday</td>\n",
       "      <td>December</td>\n",
       "      <td>January</td>\n",
       "      <td>2am-4am</td>\n",
       "      <td>2am-4am</td>\n",
       "    </tr>\n",
       "    <tr>\n",
       "      <th>191946</th>\n",
       "      <td>18</td>\n",
       "      <td>photography</td>\n",
       "      <td>FR</td>\n",
       "      <td>2017-11-06 23:50:45</td>\n",
       "      <td>2018-01-06 02:53:04</td>\n",
       "      <td>299750696</td>\n",
       "      <td>False</td>\n",
       "      <td>2017-12-02 02:53:04</td>\n",
       "      <td>False</td>\n",
       "      <td>successful</td>\n",
       "      <td>1661.61</td>\n",
       "      <td>18.0</td>\n",
       "      <td>photobooks</td>\n",
       "      <td>1429.34</td>\n",
       "      <td>8</td>\n",
       "      <td>25</td>\n",
       "      <td>35</td>\n",
       "      <td>Saturday</td>\n",
       "      <td>Saturday</td>\n",
       "      <td>December</td>\n",
       "      <td>January</td>\n",
       "      <td>2am-4am</td>\n",
       "      <td>2am-4am</td>\n",
       "    </tr>\n",
       "    <tr>\n",
       "      <th>39735</th>\n",
       "      <td>779</td>\n",
       "      <td>games</td>\n",
       "      <td>CA</td>\n",
       "      <td>2018-12-23 02:00:22</td>\n",
       "      <td>2019-03-02 03:00:00</td>\n",
       "      <td>395324593</td>\n",
       "      <td>False</td>\n",
       "      <td>2019-01-29 00:02:43</td>\n",
       "      <td>False</td>\n",
       "      <td>successful</td>\n",
       "      <td>10222.68</td>\n",
       "      <td>17.0</td>\n",
       "      <td>tabletop games</td>\n",
       "      <td>151.33</td>\n",
       "      <td>7</td>\n",
       "      <td>37</td>\n",
       "      <td>32</td>\n",
       "      <td>Tuesday</td>\n",
       "      <td>Saturday</td>\n",
       "      <td>January</td>\n",
       "      <td>March</td>\n",
       "      <td>12am-2am</td>\n",
       "      <td>2am-4am</td>\n",
       "    </tr>\n",
       "    <tr>\n",
       "      <th>102505</th>\n",
       "      <td>779</td>\n",
       "      <td>games</td>\n",
       "      <td>CA</td>\n",
       "      <td>2018-12-23 02:00:22</td>\n",
       "      <td>2019-03-02 03:00:00</td>\n",
       "      <td>395324593</td>\n",
       "      <td>False</td>\n",
       "      <td>2019-01-29 00:02:43</td>\n",
       "      <td>False</td>\n",
       "      <td>successful</td>\n",
       "      <td>10231.08</td>\n",
       "      <td>17.0</td>\n",
       "      <td>tabletop games</td>\n",
       "      <td>151.46</td>\n",
       "      <td>7</td>\n",
       "      <td>37</td>\n",
       "      <td>32</td>\n",
       "      <td>Tuesday</td>\n",
       "      <td>Saturday</td>\n",
       "      <td>January</td>\n",
       "      <td>March</td>\n",
       "      <td>12am-2am</td>\n",
       "      <td>2am-4am</td>\n",
       "    </tr>\n",
       "    <tr>\n",
       "      <th>31755</th>\n",
       "      <td>5</td>\n",
       "      <td>technology</td>\n",
       "      <td>HK</td>\n",
       "      <td>2018-03-15 11:39:29</td>\n",
       "      <td>2018-04-27 02:09:50</td>\n",
       "      <td>1188888346</td>\n",
       "      <td>False</td>\n",
       "      <td>2018-03-28 02:09:50</td>\n",
       "      <td>False</td>\n",
       "      <td>successful</td>\n",
       "      <td>1437.70</td>\n",
       "      <td>20.0</td>\n",
       "      <td>gadgets</td>\n",
       "      <td>1274.10</td>\n",
       "      <td>11</td>\n",
       "      <td>13</td>\n",
       "      <td>30</td>\n",
       "      <td>Wednesday</td>\n",
       "      <td>Friday</td>\n",
       "      <td>March</td>\n",
       "      <td>April</td>\n",
       "      <td>2am-4am</td>\n",
       "      <td>2am-4am</td>\n",
       "    </tr>\n",
       "    <tr>\n",
       "      <th>84748</th>\n",
       "      <td>5</td>\n",
       "      <td>technology</td>\n",
       "      <td>HK</td>\n",
       "      <td>2018-03-15 11:39:29</td>\n",
       "      <td>2018-04-27 02:09:50</td>\n",
       "      <td>1188888346</td>\n",
       "      <td>False</td>\n",
       "      <td>2018-03-28 02:09:50</td>\n",
       "      <td>False</td>\n",
       "      <td>successful</td>\n",
       "      <td>1437.92</td>\n",
       "      <td>20.0</td>\n",
       "      <td>gadgets</td>\n",
       "      <td>1274.30</td>\n",
       "      <td>11</td>\n",
       "      <td>13</td>\n",
       "      <td>30</td>\n",
       "      <td>Wednesday</td>\n",
       "      <td>Friday</td>\n",
       "      <td>March</td>\n",
       "      <td>April</td>\n",
       "      <td>2am-4am</td>\n",
       "      <td>2am-4am</td>\n",
       "    </tr>\n",
       "    <tr>\n",
       "      <th>204234</th>\n",
       "      <td>6745</td>\n",
       "      <td>design</td>\n",
       "      <td>FR</td>\n",
       "      <td>2018-10-16 10:16:23</td>\n",
       "      <td>2018-12-07 00:43:30</td>\n",
       "      <td>1212887301</td>\n",
       "      <td>False</td>\n",
       "      <td>2018-11-07 00:43:30</td>\n",
       "      <td>True</td>\n",
       "      <td>successful</td>\n",
       "      <td>596597.76</td>\n",
       "      <td>22.0</td>\n",
       "      <td>product design</td>\n",
       "      <td>17077.65</td>\n",
       "      <td>9</td>\n",
       "      <td>22</td>\n",
       "      <td>30</td>\n",
       "      <td>Wednesday</td>\n",
       "      <td>Friday</td>\n",
       "      <td>November</td>\n",
       "      <td>December</td>\n",
       "      <td>12am-2am</td>\n",
       "      <td>12am-2am</td>\n",
       "    </tr>\n",
       "    <tr>\n",
       "      <th>69815</th>\n",
       "      <td>6745</td>\n",
       "      <td>design</td>\n",
       "      <td>FR</td>\n",
       "      <td>2018-10-16 10:16:23</td>\n",
       "      <td>2018-12-07 00:43:30</td>\n",
       "      <td>1212887301</td>\n",
       "      <td>False</td>\n",
       "      <td>2018-11-07 00:43:30</td>\n",
       "      <td>True</td>\n",
       "      <td>successful</td>\n",
       "      <td>597379.22</td>\n",
       "      <td>22.0</td>\n",
       "      <td>product design</td>\n",
       "      <td>17100.02</td>\n",
       "      <td>9</td>\n",
       "      <td>22</td>\n",
       "      <td>30</td>\n",
       "      <td>Wednesday</td>\n",
       "      <td>Friday</td>\n",
       "      <td>November</td>\n",
       "      <td>December</td>\n",
       "      <td>12am-2am</td>\n",
       "      <td>12am-2am</td>\n",
       "    </tr>\n",
       "    <tr>\n",
       "      <th>165028</th>\n",
       "      <td>2</td>\n",
       "      <td>journalism</td>\n",
       "      <td>MX</td>\n",
       "      <td>2016-11-16 18:15:39</td>\n",
       "      <td>2016-11-28 03:34:11</td>\n",
       "      <td>1287336933</td>\n",
       "      <td>False</td>\n",
       "      <td>2016-11-18 03:34:11</td>\n",
       "      <td>False</td>\n",
       "      <td>failed</td>\n",
       "      <td>112.80</td>\n",
       "      <td>17.0</td>\n",
       "      <td>print</td>\n",
       "      <td>12261.36</td>\n",
       "      <td>5</td>\n",
       "      <td>1</td>\n",
       "      <td>10</td>\n",
       "      <td>Friday</td>\n",
       "      <td>Monday</td>\n",
       "      <td>November</td>\n",
       "      <td>November</td>\n",
       "      <td>2am-4am</td>\n",
       "      <td>2am-4am</td>\n",
       "    </tr>\n",
       "    <tr>\n",
       "      <th>2380</th>\n",
       "      <td>2</td>\n",
       "      <td>journalism</td>\n",
       "      <td>MX</td>\n",
       "      <td>2016-11-16 18:15:39</td>\n",
       "      <td>2016-11-28 03:34:11</td>\n",
       "      <td>1287336933</td>\n",
       "      <td>False</td>\n",
       "      <td>2016-11-18 03:34:11</td>\n",
       "      <td>False</td>\n",
       "      <td>failed</td>\n",
       "      <td>113.78</td>\n",
       "      <td>17.0</td>\n",
       "      <td>print</td>\n",
       "      <td>12367.00</td>\n",
       "      <td>5</td>\n",
       "      <td>1</td>\n",
       "      <td>10</td>\n",
       "      <td>Friday</td>\n",
       "      <td>Monday</td>\n",
       "      <td>November</td>\n",
       "      <td>November</td>\n",
       "      <td>2am-4am</td>\n",
       "      <td>2am-4am</td>\n",
       "    </tr>\n",
       "    <tr>\n",
       "      <th>195186</th>\n",
       "      <td>34</td>\n",
       "      <td>games</td>\n",
       "      <td>MX</td>\n",
       "      <td>2018-10-29 13:02:43</td>\n",
       "      <td>2018-11-30 01:43:02</td>\n",
       "      <td>1323539307</td>\n",
       "      <td>False</td>\n",
       "      <td>2018-10-31 00:43:02</td>\n",
       "      <td>False</td>\n",
       "      <td>successful</td>\n",
       "      <td>420.53</td>\n",
       "      <td>18.0</td>\n",
       "      <td>video games</td>\n",
       "      <td>49.89</td>\n",
       "      <td>7</td>\n",
       "      <td>1</td>\n",
       "      <td>30</td>\n",
       "      <td>Wednesday</td>\n",
       "      <td>Friday</td>\n",
       "      <td>October</td>\n",
       "      <td>November</td>\n",
       "      <td>12am-2am</td>\n",
       "      <td>12am-2am</td>\n",
       "    </tr>\n",
       "    <tr>\n",
       "      <th>198134</th>\n",
       "      <td>34</td>\n",
       "      <td>games</td>\n",
       "      <td>MX</td>\n",
       "      <td>2018-10-29 13:02:43</td>\n",
       "      <td>2018-11-30 01:43:02</td>\n",
       "      <td>1323539307</td>\n",
       "      <td>False</td>\n",
       "      <td>2018-10-31 00:43:02</td>\n",
       "      <td>False</td>\n",
       "      <td>successful</td>\n",
       "      <td>435.06</td>\n",
       "      <td>18.0</td>\n",
       "      <td>video games</td>\n",
       "      <td>51.62</td>\n",
       "      <td>7</td>\n",
       "      <td>1</td>\n",
       "      <td>30</td>\n",
       "      <td>Wednesday</td>\n",
       "      <td>Friday</td>\n",
       "      <td>October</td>\n",
       "      <td>November</td>\n",
       "      <td>12am-2am</td>\n",
       "      <td>12am-2am</td>\n",
       "    </tr>\n",
       "    <tr>\n",
       "      <th>103127</th>\n",
       "      <td>17</td>\n",
       "      <td>dance</td>\n",
       "      <td>MX</td>\n",
       "      <td>2016-12-30 18:51:09</td>\n",
       "      <td>2017-02-01 01:15:09</td>\n",
       "      <td>1573483573</td>\n",
       "      <td>False</td>\n",
       "      <td>2017-01-02 01:15:09</td>\n",
       "      <td>False</td>\n",
       "      <td>successful</td>\n",
       "      <td>1020.01</td>\n",
       "      <td>19.0</td>\n",
       "      <td>performances</td>\n",
       "      <td>964.55</td>\n",
       "      <td>4</td>\n",
       "      <td>2</td>\n",
       "      <td>30</td>\n",
       "      <td>Monday</td>\n",
       "      <td>Wednesday</td>\n",
       "      <td>January</td>\n",
       "      <td>February</td>\n",
       "      <td>12am-2am</td>\n",
       "      <td>12am-2am</td>\n",
       "    </tr>\n",
       "    <tr>\n",
       "      <th>63824</th>\n",
       "      <td>17</td>\n",
       "      <td>dance</td>\n",
       "      <td>MX</td>\n",
       "      <td>2016-12-30 18:51:09</td>\n",
       "      <td>2017-02-01 01:15:09</td>\n",
       "      <td>1573483573</td>\n",
       "      <td>False</td>\n",
       "      <td>2017-01-02 01:15:09</td>\n",
       "      <td>False</td>\n",
       "      <td>successful</td>\n",
       "      <td>1019.88</td>\n",
       "      <td>19.0</td>\n",
       "      <td>performances</td>\n",
       "      <td>964.43</td>\n",
       "      <td>4</td>\n",
       "      <td>2</td>\n",
       "      <td>30</td>\n",
       "      <td>Monday</td>\n",
       "      <td>Wednesday</td>\n",
       "      <td>January</td>\n",
       "      <td>February</td>\n",
       "      <td>12am-2am</td>\n",
       "      <td>12am-2am</td>\n",
       "    </tr>\n",
       "    <tr>\n",
       "      <th>165952</th>\n",
       "      <td>45</td>\n",
       "      <td>film &amp; video</td>\n",
       "      <td>MX</td>\n",
       "      <td>2018-02-27 23:21:47</td>\n",
       "      <td>2018-04-09 05:00:00</td>\n",
       "      <td>1702392394</td>\n",
       "      <td>False</td>\n",
       "      <td>2018-03-06 02:38:55</td>\n",
       "      <td>True</td>\n",
       "      <td>successful</td>\n",
       "      <td>3209.17</td>\n",
       "      <td>18.0</td>\n",
       "      <td>shorts</td>\n",
       "      <td>3189.61</td>\n",
       "      <td>3</td>\n",
       "      <td>6</td>\n",
       "      <td>34</td>\n",
       "      <td>Tuesday</td>\n",
       "      <td>Monday</td>\n",
       "      <td>March</td>\n",
       "      <td>April</td>\n",
       "      <td>2am-4am</td>\n",
       "      <td>4am-6am</td>\n",
       "    </tr>\n",
       "    <tr>\n",
       "      <th>58250</th>\n",
       "      <td>45</td>\n",
       "      <td>film &amp; video</td>\n",
       "      <td>MX</td>\n",
       "      <td>2018-02-27 23:21:47</td>\n",
       "      <td>2018-04-09 05:00:00</td>\n",
       "      <td>1702392394</td>\n",
       "      <td>False</td>\n",
       "      <td>2018-03-06 02:38:55</td>\n",
       "      <td>True</td>\n",
       "      <td>successful</td>\n",
       "      <td>3198.76</td>\n",
       "      <td>18.0</td>\n",
       "      <td>shorts</td>\n",
       "      <td>3179.26</td>\n",
       "      <td>3</td>\n",
       "      <td>6</td>\n",
       "      <td>34</td>\n",
       "      <td>Tuesday</td>\n",
       "      <td>Monday</td>\n",
       "      <td>March</td>\n",
       "      <td>April</td>\n",
       "      <td>2am-4am</td>\n",
       "      <td>4am-6am</td>\n",
       "    </tr>\n",
       "    <tr>\n",
       "      <th>94567</th>\n",
       "      <td>1053</td>\n",
       "      <td>fashion</td>\n",
       "      <td>AU</td>\n",
       "      <td>2017-09-02 04:02:19</td>\n",
       "      <td>2017-10-12 03:33:07</td>\n",
       "      <td>1934536281</td>\n",
       "      <td>False</td>\n",
       "      <td>2017-09-12 03:33:07</td>\n",
       "      <td>False</td>\n",
       "      <td>successful</td>\n",
       "      <td>87409.73</td>\n",
       "      <td>21.0</td>\n",
       "      <td>apparel</td>\n",
       "      <td>12086.25</td>\n",
       "      <td>6</td>\n",
       "      <td>10</td>\n",
       "      <td>30</td>\n",
       "      <td>Tuesday</td>\n",
       "      <td>Thursday</td>\n",
       "      <td>September</td>\n",
       "      <td>October</td>\n",
       "      <td>2am-4am</td>\n",
       "      <td>2am-4am</td>\n",
       "    </tr>\n",
       "    <tr>\n",
       "      <th>184176</th>\n",
       "      <td>1053</td>\n",
       "      <td>fashion</td>\n",
       "      <td>AU</td>\n",
       "      <td>2017-09-02 04:02:19</td>\n",
       "      <td>2017-10-12 03:33:07</td>\n",
       "      <td>1934536281</td>\n",
       "      <td>False</td>\n",
       "      <td>2017-09-12 03:33:07</td>\n",
       "      <td>False</td>\n",
       "      <td>successful</td>\n",
       "      <td>87307.31</td>\n",
       "      <td>21.0</td>\n",
       "      <td>apparel</td>\n",
       "      <td>12072.08</td>\n",
       "      <td>6</td>\n",
       "      <td>10</td>\n",
       "      <td>30</td>\n",
       "      <td>Tuesday</td>\n",
       "      <td>Thursday</td>\n",
       "      <td>September</td>\n",
       "      <td>October</td>\n",
       "      <td>2am-4am</td>\n",
       "      <td>2am-4am</td>\n",
       "    </tr>\n",
       "  </tbody>\n",
       "</table>\n",
       "</div>"
      ],
      "text/plain": [
       "        backers_count      category country          created_at  \\\n",
       "197835           1675         games      NZ 2018-05-30 04:51:55   \n",
       "144698           1675         games      NZ 2018-05-30 04:51:55   \n",
       "124657             32           art      CA 2018-05-07 22:52:48   \n",
       "106307             32           art      CA 2018-05-07 22:52:48   \n",
       "105017             18   photography      FR 2017-11-06 23:50:45   \n",
       "191946             18   photography      FR 2017-11-06 23:50:45   \n",
       "39735             779         games      CA 2018-12-23 02:00:22   \n",
       "102505            779         games      CA 2018-12-23 02:00:22   \n",
       "31755               5    technology      HK 2018-03-15 11:39:29   \n",
       "84748               5    technology      HK 2018-03-15 11:39:29   \n",
       "204234           6745        design      FR 2018-10-16 10:16:23   \n",
       "69815            6745        design      FR 2018-10-16 10:16:23   \n",
       "165028              2    journalism      MX 2016-11-16 18:15:39   \n",
       "2380                2    journalism      MX 2016-11-16 18:15:39   \n",
       "195186             34         games      MX 2018-10-29 13:02:43   \n",
       "198134             34         games      MX 2018-10-29 13:02:43   \n",
       "103127             17         dance      MX 2016-12-30 18:51:09   \n",
       "63824              17         dance      MX 2016-12-30 18:51:09   \n",
       "165952             45  film & video      MX 2018-02-27 23:21:47   \n",
       "58250              45  film & video      MX 2018-02-27 23:21:47   \n",
       "94567            1053       fashion      AU 2017-09-02 04:02:19   \n",
       "184176           1053       fashion      AU 2017-09-02 04:02:19   \n",
       "\n",
       "                  deadline          id  is_starrable         launched_at  \\\n",
       "197835 2018-12-18 04:00:00   122079667         False 2018-11-21 02:04:29   \n",
       "144698 2018-12-18 04:00:00   122079667         False 2018-11-21 02:04:29   \n",
       "124657 2018-05-30 01:00:00   123735637         False 2018-05-08 01:43:43   \n",
       "106307 2018-05-30 01:00:00   123735637         False 2018-05-08 01:43:43   \n",
       "105017 2018-01-06 02:53:04   299750696         False 2017-12-02 02:53:04   \n",
       "191946 2018-01-06 02:53:04   299750696         False 2017-12-02 02:53:04   \n",
       "39735  2019-03-02 03:00:00   395324593         False 2019-01-29 00:02:43   \n",
       "102505 2019-03-02 03:00:00   395324593         False 2019-01-29 00:02:43   \n",
       "31755  2018-04-27 02:09:50  1188888346         False 2018-03-28 02:09:50   \n",
       "84748  2018-04-27 02:09:50  1188888346         False 2018-03-28 02:09:50   \n",
       "204234 2018-12-07 00:43:30  1212887301         False 2018-11-07 00:43:30   \n",
       "69815  2018-12-07 00:43:30  1212887301         False 2018-11-07 00:43:30   \n",
       "165028 2016-11-28 03:34:11  1287336933         False 2016-11-18 03:34:11   \n",
       "2380   2016-11-28 03:34:11  1287336933         False 2016-11-18 03:34:11   \n",
       "195186 2018-11-30 01:43:02  1323539307         False 2018-10-31 00:43:02   \n",
       "198134 2018-11-30 01:43:02  1323539307         False 2018-10-31 00:43:02   \n",
       "103127 2017-02-01 01:15:09  1573483573         False 2017-01-02 01:15:09   \n",
       "63824  2017-02-01 01:15:09  1573483573         False 2017-01-02 01:15:09   \n",
       "165952 2018-04-09 05:00:00  1702392394         False 2018-03-06 02:38:55   \n",
       "58250  2018-04-09 05:00:00  1702392394         False 2018-03-06 02:38:55   \n",
       "94567  2017-10-12 03:33:07  1934536281         False 2017-09-12 03:33:07   \n",
       "184176 2017-10-12 03:33:07  1934536281         False 2017-09-12 03:33:07   \n",
       "\n",
       "        staff_pick       state  usd_pledged  blurb_length    sub_category  \\\n",
       "197835       False  successful    200537.60          12.0  tabletop games   \n",
       "144698       False  successful    200710.36          12.0  tabletop games   \n",
       "124657       False  successful       669.56          13.0    illustration   \n",
       "106307       False  successful       669.10          13.0    illustration   \n",
       "105017       False  successful      1654.77          18.0      photobooks   \n",
       "191946       False  successful      1661.61          18.0      photobooks   \n",
       "39735        False  successful     10222.68          17.0  tabletop games   \n",
       "102505       False  successful     10231.08          17.0  tabletop games   \n",
       "31755        False  successful      1437.70          20.0         gadgets   \n",
       "84748        False  successful      1437.92          20.0         gadgets   \n",
       "204234        True  successful    596597.76          22.0  product design   \n",
       "69815         True  successful    597379.22          22.0  product design   \n",
       "165028       False      failed       112.80          17.0           print   \n",
       "2380         False      failed       113.78          17.0           print   \n",
       "195186       False  successful       420.53          18.0     video games   \n",
       "198134       False  successful       435.06          18.0     video games   \n",
       "103127       False  successful      1020.01          19.0    performances   \n",
       "63824        False  successful      1019.88          19.0    performances   \n",
       "165952        True  successful      3209.17          18.0          shorts   \n",
       "58250         True  successful      3198.76          18.0          shorts   \n",
       "94567        False  successful     87409.73          21.0         apparel   \n",
       "184176       False  successful     87307.31          21.0         apparel   \n",
       "\n",
       "        usd_goal  name_length  creation_to_launch_days  campaign_days  \\\n",
       "197835    342.10            4                      175             27   \n",
       "144698    342.40            4                      175             27   \n",
       "124657    466.97           10                        0             22   \n",
       "106307    466.65           10                        0             22   \n",
       "105017   1423.46            8                       25             35   \n",
       "191946   1429.34            8                       25             35   \n",
       "39735     151.33            7                       37             32   \n",
       "102505    151.46            7                       37             32   \n",
       "31755    1274.10           11                       13             30   \n",
       "84748    1274.30           11                       13             30   \n",
       "204234  17077.65            9                       22             30   \n",
       "69815   17100.02            9                       22             30   \n",
       "165028  12261.36            5                        1             10   \n",
       "2380    12367.00            5                        1             10   \n",
       "195186     49.89            7                        1             30   \n",
       "198134     51.62            7                        1             30   \n",
       "103127    964.55            4                        2             30   \n",
       "63824     964.43            4                        2             30   \n",
       "165952   3189.61            3                        6             34   \n",
       "58250    3179.26            3                        6             34   \n",
       "94567   12086.25            6                       10             30   \n",
       "184176  12072.08            6                       10             30   \n",
       "\n",
       "       launch_day deadline_day launch_month deadline_month launch_time  \\\n",
       "197835  Wednesday      Tuesday     November       December     2am-4am   \n",
       "144698  Wednesday      Tuesday     November       December     2am-4am   \n",
       "124657    Tuesday    Wednesday          May            May    12am-2am   \n",
       "106307    Tuesday    Wednesday          May            May    12am-2am   \n",
       "105017   Saturday     Saturday     December        January     2am-4am   \n",
       "191946   Saturday     Saturday     December        January     2am-4am   \n",
       "39735     Tuesday     Saturday      January          March    12am-2am   \n",
       "102505    Tuesday     Saturday      January          March    12am-2am   \n",
       "31755   Wednesday       Friday        March          April     2am-4am   \n",
       "84748   Wednesday       Friday        March          April     2am-4am   \n",
       "204234  Wednesday       Friday     November       December    12am-2am   \n",
       "69815   Wednesday       Friday     November       December    12am-2am   \n",
       "165028     Friday       Monday     November       November     2am-4am   \n",
       "2380       Friday       Monday     November       November     2am-4am   \n",
       "195186  Wednesday       Friday      October       November    12am-2am   \n",
       "198134  Wednesday       Friday      October       November    12am-2am   \n",
       "103127     Monday    Wednesday      January       February    12am-2am   \n",
       "63824      Monday    Wednesday      January       February    12am-2am   \n",
       "165952    Tuesday       Monday        March          April     2am-4am   \n",
       "58250     Tuesday       Monday        March          April     2am-4am   \n",
       "94567     Tuesday     Thursday    September        October     2am-4am   \n",
       "184176    Tuesday     Thursday    September        October     2am-4am   \n",
       "\n",
       "       deadline_time  \n",
       "197835       4am-6am  \n",
       "144698       4am-6am  \n",
       "124657      12am-2am  \n",
       "106307      12am-2am  \n",
       "105017       2am-4am  \n",
       "191946       2am-4am  \n",
       "39735        2am-4am  \n",
       "102505       2am-4am  \n",
       "31755        2am-4am  \n",
       "84748        2am-4am  \n",
       "204234      12am-2am  \n",
       "69815       12am-2am  \n",
       "165028       2am-4am  \n",
       "2380         2am-4am  \n",
       "195186      12am-2am  \n",
       "198134      12am-2am  \n",
       "103127      12am-2am  \n",
       "63824       12am-2am  \n",
       "165952       4am-6am  \n",
       "58250        4am-6am  \n",
       "94567        2am-4am  \n",
       "184176       2am-4am  "
      ]
     },
     "execution_count": 355,
     "metadata": {},
     "output_type": "execute_result"
    }
   ],
   "source": [
    "print(len(df[df.duplicated(subset='id')]), \"duplicated projects remain.\")\n",
    "duplicated = df[df.duplicated(subset='id', keep=False)].sort_values(by='id')\n",
    "duplicated"
   ]
  },
  {
   "cell_type": "markdown",
   "metadata": {},
   "source": [
    "Comparing rows for each duplicated project:"
   ]
  },
  {
   "cell_type": "code",
   "execution_count": 356,
   "metadata": {
    "scrolled": true
   },
   "outputs": [
    {
     "name": "stdout",
     "output_type": "stream",
     "text": [
      "[197835] [144698]\n",
      "[124657] [106307]\n",
      "[105017] [191946]\n",
      "[39735] [102505]\n",
      "[31755] [84748]\n",
      "[204234] [69815]\n",
      "[165028] [2380]\n",
      "[195186] [198134]\n",
      "[103127] [63824]\n",
      "[165952] [58250]\n",
      "[94567] [184176]\n"
     ]
    }
   ],
   "source": [
    "# Get list of index numbers for duplicated ids\n",
    "dup_ids = duplicated.id.unique()\n",
    "for i in dup_ids:\n",
    "    index1 = duplicated[duplicated.id == i][:1].index.values\n",
    "    index2 = duplicated[duplicated.id == i][1:2].index.values\n",
    "    print(index1, index2)\n",
    "    #print(duplicated.loc[index1] == duplicated.loc[index2]) # produces TypeError: Could not compare [None] with block values"
   ]
  },
  {
   "cell_type": "code",
   "execution_count": 39,
   "metadata": {
    "scrolled": true
   },
   "outputs": [
    {
     "data": {
      "text/plain": [
       "backers_count               True\n",
       "category                    True\n",
       "country                     True\n",
       "created_at                  True\n",
       "deadline                    True\n",
       "id                          True\n",
       "is_starrable                True\n",
       "launched_at                 True\n",
       "staff_pick                  True\n",
       "state                       True\n",
       "usd_pledged                False\n",
       "blurb_length                True\n",
       "sub_category                True\n",
       "usd_goal                   False\n",
       "name_length                 True\n",
       "creation_to_launch_days     True\n",
       "campaign_days               True\n",
       "launch_day                  True\n",
       "deadline_day                True\n",
       "launch_month                True\n",
       "deadline_month              True\n",
       "launch_time                 True\n",
       "deadline_time               True\n",
       "dtype: bool"
      ]
     },
     "execution_count": 39,
     "metadata": {},
     "output_type": "execute_result"
    }
   ],
   "source": [
    "df.loc[197835] == df.loc[144698]"
   ]
  },
  {
   "cell_type": "code",
   "execution_count": 40,
   "metadata": {
    "scrolled": true
   },
   "outputs": [
    {
     "data": {
      "text/plain": [
       "backers_count               True\n",
       "category                    True\n",
       "country                     True\n",
       "created_at                  True\n",
       "deadline                    True\n",
       "id                          True\n",
       "is_starrable                True\n",
       "launched_at                 True\n",
       "staff_pick                  True\n",
       "state                       True\n",
       "usd_pledged                False\n",
       "blurb_length                True\n",
       "sub_category                True\n",
       "usd_goal                   False\n",
       "name_length                 True\n",
       "creation_to_launch_days     True\n",
       "campaign_days               True\n",
       "launch_day                  True\n",
       "deadline_day                True\n",
       "launch_month                True\n",
       "deadline_month              True\n",
       "launch_time                 True\n",
       "deadline_time               True\n",
       "dtype: bool"
      ]
     },
     "execution_count": 40,
     "metadata": {},
     "output_type": "execute_result"
    }
   ],
   "source": [
    "df.loc[124657] == df.loc[106307]"
   ]
  },
  {
   "cell_type": "code",
   "execution_count": 41,
   "metadata": {
    "scrolled": true
   },
   "outputs": [
    {
     "data": {
      "text/plain": [
       "backers_count               True\n",
       "category                    True\n",
       "country                     True\n",
       "created_at                  True\n",
       "deadline                    True\n",
       "id                          True\n",
       "is_starrable                True\n",
       "launched_at                 True\n",
       "staff_pick                  True\n",
       "state                       True\n",
       "usd_pledged                False\n",
       "blurb_length                True\n",
       "sub_category                True\n",
       "usd_goal                   False\n",
       "name_length                 True\n",
       "creation_to_launch_days     True\n",
       "campaign_days               True\n",
       "launch_day                  True\n",
       "deadline_day                True\n",
       "launch_month                True\n",
       "deadline_month              True\n",
       "launch_time                 True\n",
       "deadline_time               True\n",
       "dtype: bool"
      ]
     },
     "execution_count": 41,
     "metadata": {},
     "output_type": "execute_result"
    }
   ],
   "source": [
    "df.loc[105017] == df.loc[191946]"
   ]
  },
  {
   "cell_type": "code",
   "execution_count": 42,
   "metadata": {
    "scrolled": true
   },
   "outputs": [
    {
     "data": {
      "text/plain": [
       "backers_count               True\n",
       "category                    True\n",
       "country                     True\n",
       "created_at                  True\n",
       "deadline                    True\n",
       "id                          True\n",
       "is_starrable                True\n",
       "launched_at                 True\n",
       "staff_pick                  True\n",
       "state                       True\n",
       "usd_pledged                False\n",
       "blurb_length                True\n",
       "sub_category                True\n",
       "usd_goal                   False\n",
       "name_length                 True\n",
       "creation_to_launch_days     True\n",
       "campaign_days               True\n",
       "launch_day                  True\n",
       "deadline_day                True\n",
       "launch_month                True\n",
       "deadline_month              True\n",
       "launch_time                 True\n",
       "deadline_time               True\n",
       "dtype: bool"
      ]
     },
     "execution_count": 42,
     "metadata": {},
     "output_type": "execute_result"
    }
   ],
   "source": [
    "df.loc[39735] == df.loc[102505]"
   ]
  },
  {
   "cell_type": "code",
   "execution_count": 43,
   "metadata": {
    "scrolled": true
   },
   "outputs": [
    {
     "data": {
      "text/plain": [
       "backers_count               True\n",
       "category                    True\n",
       "country                     True\n",
       "created_at                  True\n",
       "deadline                    True\n",
       "id                          True\n",
       "is_starrable                True\n",
       "launched_at                 True\n",
       "staff_pick                  True\n",
       "state                       True\n",
       "usd_pledged                False\n",
       "blurb_length                True\n",
       "sub_category                True\n",
       "usd_goal                   False\n",
       "name_length                 True\n",
       "creation_to_launch_days     True\n",
       "campaign_days               True\n",
       "launch_day                  True\n",
       "deadline_day                True\n",
       "launch_month                True\n",
       "deadline_month              True\n",
       "launch_time                 True\n",
       "deadline_time               True\n",
       "dtype: bool"
      ]
     },
     "execution_count": 43,
     "metadata": {},
     "output_type": "execute_result"
    }
   ],
   "source": [
    "df.loc[31755] == df.loc[84748]"
   ]
  },
  {
   "cell_type": "code",
   "execution_count": 44,
   "metadata": {
    "scrolled": true
   },
   "outputs": [
    {
     "data": {
      "text/plain": [
       "backers_count               True\n",
       "category                    True\n",
       "country                     True\n",
       "created_at                  True\n",
       "deadline                    True\n",
       "id                          True\n",
       "is_starrable                True\n",
       "launched_at                 True\n",
       "staff_pick                  True\n",
       "state                       True\n",
       "usd_pledged                False\n",
       "blurb_length                True\n",
       "sub_category                True\n",
       "usd_goal                   False\n",
       "name_length                 True\n",
       "creation_to_launch_days     True\n",
       "campaign_days               True\n",
       "launch_day                  True\n",
       "deadline_day                True\n",
       "launch_month                True\n",
       "deadline_month              True\n",
       "launch_time                 True\n",
       "deadline_time               True\n",
       "dtype: bool"
      ]
     },
     "execution_count": 44,
     "metadata": {},
     "output_type": "execute_result"
    }
   ],
   "source": [
    "df.loc[204234] == df.loc[69815]"
   ]
  },
  {
   "cell_type": "code",
   "execution_count": 45,
   "metadata": {
    "scrolled": true
   },
   "outputs": [
    {
     "data": {
      "text/plain": [
       "backers_count               True\n",
       "category                    True\n",
       "country                     True\n",
       "created_at                  True\n",
       "deadline                    True\n",
       "id                          True\n",
       "is_starrable                True\n",
       "launched_at                 True\n",
       "staff_pick                  True\n",
       "state                       True\n",
       "usd_pledged                False\n",
       "blurb_length                True\n",
       "sub_category                True\n",
       "usd_goal                   False\n",
       "name_length                 True\n",
       "creation_to_launch_days     True\n",
       "campaign_days               True\n",
       "launch_day                  True\n",
       "deadline_day                True\n",
       "launch_month                True\n",
       "deadline_month              True\n",
       "launch_time                 True\n",
       "deadline_time               True\n",
       "dtype: bool"
      ]
     },
     "execution_count": 45,
     "metadata": {},
     "output_type": "execute_result"
    }
   ],
   "source": [
    "df.loc[165028] == df.loc[2380]"
   ]
  },
  {
   "cell_type": "code",
   "execution_count": 46,
   "metadata": {
    "scrolled": true
   },
   "outputs": [
    {
     "data": {
      "text/plain": [
       "backers_count               True\n",
       "category                    True\n",
       "country                     True\n",
       "created_at                  True\n",
       "deadline                    True\n",
       "id                          True\n",
       "is_starrable                True\n",
       "launched_at                 True\n",
       "staff_pick                  True\n",
       "state                       True\n",
       "usd_pledged                False\n",
       "blurb_length                True\n",
       "sub_category                True\n",
       "usd_goal                   False\n",
       "name_length                 True\n",
       "creation_to_launch_days     True\n",
       "campaign_days               True\n",
       "launch_day                  True\n",
       "deadline_day                True\n",
       "launch_month                True\n",
       "deadline_month              True\n",
       "launch_time                 True\n",
       "deadline_time               True\n",
       "dtype: bool"
      ]
     },
     "execution_count": 46,
     "metadata": {},
     "output_type": "execute_result"
    }
   ],
   "source": [
    "df.loc[195186] == df.loc[198134]"
   ]
  },
  {
   "cell_type": "code",
   "execution_count": 47,
   "metadata": {
    "scrolled": true
   },
   "outputs": [
    {
     "data": {
      "text/plain": [
       "backers_count               True\n",
       "category                    True\n",
       "country                     True\n",
       "created_at                  True\n",
       "deadline                    True\n",
       "id                          True\n",
       "is_starrable                True\n",
       "launched_at                 True\n",
       "staff_pick                  True\n",
       "state                       True\n",
       "usd_pledged                False\n",
       "blurb_length                True\n",
       "sub_category                True\n",
       "usd_goal                   False\n",
       "name_length                 True\n",
       "creation_to_launch_days     True\n",
       "campaign_days               True\n",
       "launch_day                  True\n",
       "deadline_day                True\n",
       "launch_month                True\n",
       "deadline_month              True\n",
       "launch_time                 True\n",
       "deadline_time               True\n",
       "dtype: bool"
      ]
     },
     "execution_count": 47,
     "metadata": {},
     "output_type": "execute_result"
    }
   ],
   "source": [
    "df.loc[103127] == df.loc[63824]"
   ]
  },
  {
   "cell_type": "code",
   "execution_count": 48,
   "metadata": {
    "scrolled": true
   },
   "outputs": [
    {
     "data": {
      "text/plain": [
       "backers_count               True\n",
       "category                    True\n",
       "country                     True\n",
       "created_at                  True\n",
       "deadline                    True\n",
       "id                          True\n",
       "is_starrable                True\n",
       "launched_at                 True\n",
       "staff_pick                  True\n",
       "state                       True\n",
       "usd_pledged                False\n",
       "blurb_length                True\n",
       "sub_category                True\n",
       "usd_goal                   False\n",
       "name_length                 True\n",
       "creation_to_launch_days     True\n",
       "campaign_days               True\n",
       "launch_day                  True\n",
       "deadline_day                True\n",
       "launch_month                True\n",
       "deadline_month              True\n",
       "launch_time                 True\n",
       "deadline_time               True\n",
       "dtype: bool"
      ]
     },
     "execution_count": 48,
     "metadata": {},
     "output_type": "execute_result"
    }
   ],
   "source": [
    "df.loc[165952] == df.loc[58250]"
   ]
  },
  {
   "cell_type": "code",
   "execution_count": 49,
   "metadata": {
    "scrolled": true
   },
   "outputs": [
    {
     "data": {
      "text/plain": [
       "backers_count               True\n",
       "category                    True\n",
       "country                     True\n",
       "created_at                  True\n",
       "deadline                    True\n",
       "id                          True\n",
       "is_starrable                True\n",
       "launched_at                 True\n",
       "staff_pick                  True\n",
       "state                       True\n",
       "usd_pledged                False\n",
       "blurb_length                True\n",
       "sub_category                True\n",
       "usd_goal                   False\n",
       "name_length                 True\n",
       "creation_to_launch_days     True\n",
       "campaign_days               True\n",
       "launch_day                  True\n",
       "deadline_day                True\n",
       "launch_month                True\n",
       "deadline_month              True\n",
       "launch_time                 True\n",
       "deadline_time               True\n",
       "dtype: bool"
      ]
     },
     "execution_count": 49,
     "metadata": {},
     "output_type": "execute_result"
    }
   ],
   "source": [
    "df.loc[94567] == df.loc[184176]"
   ]
  },
  {
   "cell_type": "markdown",
   "metadata": {},
   "source": [
    "The results above show that for each pair of duplicates, there are differences in the usd_pledge and usd_goal columns. The differences are only in the order of a few cents or dollars, so it does not make much difference which one is kept. Therefore the second one of each pair will be dropped."
   ]
  },
  {
   "cell_type": "code",
   "execution_count": 357,
   "metadata": {},
   "outputs": [],
   "source": [
    "df.drop_duplicates(subset='id', keep='first', inplace=True)"
   ]
  },
  {
   "cell_type": "markdown",
   "metadata": {},
   "source": [
    "**Setting the index**"
   ]
  },
  {
   "cell_type": "markdown",
   "metadata": {},
   "source": [
    "The id will now be set as the index."
   ]
  },
  {
   "cell_type": "code",
   "execution_count": 358,
   "metadata": {
    "scrolled": true
   },
   "outputs": [
    {
     "data": {
      "text/html": [
       "<div>\n",
       "<style scoped>\n",
       "    .dataframe tbody tr th:only-of-type {\n",
       "        vertical-align: middle;\n",
       "    }\n",
       "\n",
       "    .dataframe tbody tr th {\n",
       "        vertical-align: top;\n",
       "    }\n",
       "\n",
       "    .dataframe thead th {\n",
       "        text-align: right;\n",
       "    }\n",
       "</style>\n",
       "<table border=\"1\" class=\"dataframe\">\n",
       "  <thead>\n",
       "    <tr style=\"text-align: right;\">\n",
       "      <th></th>\n",
       "      <th>backers_count</th>\n",
       "      <th>category</th>\n",
       "      <th>country</th>\n",
       "      <th>created_at</th>\n",
       "      <th>deadline</th>\n",
       "      <th>is_starrable</th>\n",
       "      <th>launched_at</th>\n",
       "      <th>staff_pick</th>\n",
       "      <th>state</th>\n",
       "      <th>usd_pledged</th>\n",
       "      <th>blurb_length</th>\n",
       "      <th>sub_category</th>\n",
       "      <th>usd_goal</th>\n",
       "      <th>name_length</th>\n",
       "      <th>creation_to_launch_days</th>\n",
       "      <th>campaign_days</th>\n",
       "      <th>launch_day</th>\n",
       "      <th>deadline_day</th>\n",
       "      <th>launch_month</th>\n",
       "      <th>deadline_month</th>\n",
       "      <th>launch_time</th>\n",
       "      <th>deadline_time</th>\n",
       "    </tr>\n",
       "    <tr>\n",
       "      <th>id</th>\n",
       "      <th></th>\n",
       "      <th></th>\n",
       "      <th></th>\n",
       "      <th></th>\n",
       "      <th></th>\n",
       "      <th></th>\n",
       "      <th></th>\n",
       "      <th></th>\n",
       "      <th></th>\n",
       "      <th></th>\n",
       "      <th></th>\n",
       "      <th></th>\n",
       "      <th></th>\n",
       "      <th></th>\n",
       "      <th></th>\n",
       "      <th></th>\n",
       "      <th></th>\n",
       "      <th></th>\n",
       "      <th></th>\n",
       "      <th></th>\n",
       "      <th></th>\n",
       "      <th></th>\n",
       "    </tr>\n",
       "  </thead>\n",
       "  <tbody>\n",
       "    <tr>\n",
       "      <th>287514992</th>\n",
       "      <td>21</td>\n",
       "      <td>music</td>\n",
       "      <td>US</td>\n",
       "      <td>2013-12-21 21:01:30</td>\n",
       "      <td>2014-02-08 22:37:26</td>\n",
       "      <td>False</td>\n",
       "      <td>2013-12-25 22:37:26</td>\n",
       "      <td>False</td>\n",
       "      <td>successful</td>\n",
       "      <td>802.00</td>\n",
       "      <td>26.0</td>\n",
       "      <td>rock</td>\n",
       "      <td>200.0</td>\n",
       "      <td>4</td>\n",
       "      <td>4</td>\n",
       "      <td>45</td>\n",
       "      <td>Wednesday</td>\n",
       "      <td>Saturday</td>\n",
       "      <td>December</td>\n",
       "      <td>February</td>\n",
       "      <td>10pm-12am</td>\n",
       "      <td>10pm-12am</td>\n",
       "    </tr>\n",
       "    <tr>\n",
       "      <th>385129759</th>\n",
       "      <td>97</td>\n",
       "      <td>art</td>\n",
       "      <td>US</td>\n",
       "      <td>2019-02-08 21:02:48</td>\n",
       "      <td>2019-03-05 16:00:11</td>\n",
       "      <td>False</td>\n",
       "      <td>2019-02-13 16:00:11</td>\n",
       "      <td>False</td>\n",
       "      <td>successful</td>\n",
       "      <td>2259.00</td>\n",
       "      <td>9.0</td>\n",
       "      <td>mixed media</td>\n",
       "      <td>400.0</td>\n",
       "      <td>5</td>\n",
       "      <td>5</td>\n",
       "      <td>20</td>\n",
       "      <td>Wednesday</td>\n",
       "      <td>Tuesday</td>\n",
       "      <td>February</td>\n",
       "      <td>March</td>\n",
       "      <td>4pm-6pm</td>\n",
       "      <td>4pm-6pm</td>\n",
       "    </tr>\n",
       "    <tr>\n",
       "      <th>681033598</th>\n",
       "      <td>88</td>\n",
       "      <td>photography</td>\n",
       "      <td>US</td>\n",
       "      <td>2016-10-23 17:06:24</td>\n",
       "      <td>2016-12-01 15:58:50</td>\n",
       "      <td>False</td>\n",
       "      <td>2016-11-01 14:58:50</td>\n",
       "      <td>True</td>\n",
       "      <td>successful</td>\n",
       "      <td>29638.00</td>\n",
       "      <td>25.0</td>\n",
       "      <td>photobooks</td>\n",
       "      <td>27224.0</td>\n",
       "      <td>9</td>\n",
       "      <td>9</td>\n",
       "      <td>30</td>\n",
       "      <td>Tuesday</td>\n",
       "      <td>Thursday</td>\n",
       "      <td>November</td>\n",
       "      <td>December</td>\n",
       "      <td>2pm-4pm</td>\n",
       "      <td>2pm-4pm</td>\n",
       "    </tr>\n",
       "    <tr>\n",
       "      <th>1031782682</th>\n",
       "      <td>193</td>\n",
       "      <td>fashion</td>\n",
       "      <td>IT</td>\n",
       "      <td>2018-10-24 08:32:00</td>\n",
       "      <td>2018-12-08 22:59:00</td>\n",
       "      <td>False</td>\n",
       "      <td>2018-10-27 23:56:22</td>\n",
       "      <td>False</td>\n",
       "      <td>successful</td>\n",
       "      <td>49075.15</td>\n",
       "      <td>13.0</td>\n",
       "      <td>footwear</td>\n",
       "      <td>45461.0</td>\n",
       "      <td>5</td>\n",
       "      <td>4</td>\n",
       "      <td>42</td>\n",
       "      <td>Saturday</td>\n",
       "      <td>Saturday</td>\n",
       "      <td>October</td>\n",
       "      <td>December</td>\n",
       "      <td>10pm-12am</td>\n",
       "      <td>10pm-12am</td>\n",
       "    </tr>\n",
       "    <tr>\n",
       "      <th>904085819</th>\n",
       "      <td>20</td>\n",
       "      <td>technology</td>\n",
       "      <td>US</td>\n",
       "      <td>2015-03-07 05:35:17</td>\n",
       "      <td>2015-04-08 16:36:57</td>\n",
       "      <td>False</td>\n",
       "      <td>2015-03-09 16:36:57</td>\n",
       "      <td>False</td>\n",
       "      <td>failed</td>\n",
       "      <td>549.00</td>\n",
       "      <td>22.0</td>\n",
       "      <td>software</td>\n",
       "      <td>1000.0</td>\n",
       "      <td>4</td>\n",
       "      <td>2</td>\n",
       "      <td>30</td>\n",
       "      <td>Monday</td>\n",
       "      <td>Wednesday</td>\n",
       "      <td>March</td>\n",
       "      <td>April</td>\n",
       "      <td>4pm-6pm</td>\n",
       "      <td>4pm-6pm</td>\n",
       "    </tr>\n",
       "  </tbody>\n",
       "</table>\n",
       "</div>"
      ],
      "text/plain": [
       "            backers_count     category country          created_at  \\\n",
       "id                                                                   \n",
       "287514992              21        music      US 2013-12-21 21:01:30   \n",
       "385129759              97          art      US 2019-02-08 21:02:48   \n",
       "681033598              88  photography      US 2016-10-23 17:06:24   \n",
       "1031782682            193      fashion      IT 2018-10-24 08:32:00   \n",
       "904085819              20   technology      US 2015-03-07 05:35:17   \n",
       "\n",
       "                      deadline  is_starrable         launched_at  staff_pick  \\\n",
       "id                                                                             \n",
       "287514992  2014-02-08 22:37:26         False 2013-12-25 22:37:26       False   \n",
       "385129759  2019-03-05 16:00:11         False 2019-02-13 16:00:11       False   \n",
       "681033598  2016-12-01 15:58:50         False 2016-11-01 14:58:50        True   \n",
       "1031782682 2018-12-08 22:59:00         False 2018-10-27 23:56:22       False   \n",
       "904085819  2015-04-08 16:36:57         False 2015-03-09 16:36:57       False   \n",
       "\n",
       "                 state  usd_pledged  blurb_length sub_category  usd_goal  \\\n",
       "id                                                                         \n",
       "287514992   successful       802.00          26.0         rock     200.0   \n",
       "385129759   successful      2259.00           9.0  mixed media     400.0   \n",
       "681033598   successful     29638.00          25.0   photobooks   27224.0   \n",
       "1031782682  successful     49075.15          13.0     footwear   45461.0   \n",
       "904085819       failed       549.00          22.0     software    1000.0   \n",
       "\n",
       "            name_length  creation_to_launch_days  campaign_days launch_day  \\\n",
       "id                                                                           \n",
       "287514992             4                        4             45  Wednesday   \n",
       "385129759             5                        5             20  Wednesday   \n",
       "681033598             9                        9             30    Tuesday   \n",
       "1031782682            5                        4             42   Saturday   \n",
       "904085819             4                        2             30     Monday   \n",
       "\n",
       "           deadline_day launch_month deadline_month launch_time deadline_time  \n",
       "id                                                                             \n",
       "287514992      Saturday     December       February   10pm-12am     10pm-12am  \n",
       "385129759       Tuesday     February          March     4pm-6pm       4pm-6pm  \n",
       "681033598      Thursday     November       December     2pm-4pm       2pm-4pm  \n",
       "1031782682     Saturday      October       December   10pm-12am     10pm-12am  \n",
       "904085819     Wednesday        March          April     4pm-6pm       4pm-6pm  "
      ]
     },
     "execution_count": 358,
     "metadata": {},
     "output_type": "execute_result"
    }
   ],
   "source": [
    "# Setting the id column as the index\n",
    "df.set_index('id', inplace=True)\n",
    "df.head()"
   ]
  },
  {
   "cell_type": "markdown",
   "metadata": {},
   "source": [
    "***\n",
    "# Exploring the data"
   ]
  },
  {
   "cell_type": "markdown",
   "metadata": {},
   "source": [
    "In this section..."
   ]
  },
  {
   "cell_type": "markdown",
   "metadata": {},
   "source": [
    "**How many projects have been launched on Kickstarter, how much money has been pledged, and how do succesful and failed projects differ?**"
   ]
  },
  {
   "cell_type": "code",
   "execution_count": 359,
   "metadata": {},
   "outputs": [
    {
     "data": {
      "text/html": [
       "<div>\n",
       "<style scoped>\n",
       "    .dataframe tbody tr th:only-of-type {\n",
       "        vertical-align: middle;\n",
       "    }\n",
       "\n",
       "    .dataframe tbody tr th {\n",
       "        vertical-align: top;\n",
       "    }\n",
       "\n",
       "    .dataframe thead th {\n",
       "        text-align: right;\n",
       "    }\n",
       "</style>\n",
       "<table border=\"1\" class=\"dataframe\">\n",
       "  <thead>\n",
       "    <tr style=\"text-align: right;\">\n",
       "      <th></th>\n",
       "      <th>backers_count</th>\n",
       "      <th>usd_pledged</th>\n",
       "      <th>blurb_length</th>\n",
       "      <th>usd_goal</th>\n",
       "      <th>name_length</th>\n",
       "      <th>creation_to_launch_days</th>\n",
       "      <th>campaign_days</th>\n",
       "    </tr>\n",
       "  </thead>\n",
       "  <tbody>\n",
       "    <tr>\n",
       "      <th>count</th>\n",
       "      <td>168979.000000</td>\n",
       "      <td>1.689790e+05</td>\n",
       "      <td>168979.000000</td>\n",
       "      <td>1.689790e+05</td>\n",
       "      <td>168979.000000</td>\n",
       "      <td>168979.000000</td>\n",
       "      <td>168979.000000</td>\n",
       "    </tr>\n",
       "    <tr>\n",
       "      <th>mean</th>\n",
       "      <td>140.068221</td>\n",
       "      <td>1.211097e+04</td>\n",
       "      <td>19.010759</td>\n",
       "      <td>4.109688e+04</td>\n",
       "      <td>5.709153</td>\n",
       "      <td>46.710645</td>\n",
       "      <td>32.643287</td>\n",
       "    </tr>\n",
       "    <tr>\n",
       "      <th>std</th>\n",
       "      <td>894.931802</td>\n",
       "      <td>8.373932e+04</td>\n",
       "      <td>4.982463</td>\n",
       "      <td>1.110957e+06</td>\n",
       "      <td>2.706210</td>\n",
       "      <td>127.597384</td>\n",
       "      <td>11.761523</td>\n",
       "    </tr>\n",
       "    <tr>\n",
       "      <th>min</th>\n",
       "      <td>0.000000</td>\n",
       "      <td>0.000000e+00</td>\n",
       "      <td>0.000000</td>\n",
       "      <td>1.000000e-02</td>\n",
       "      <td>1.000000</td>\n",
       "      <td>0.000000</td>\n",
       "      <td>1.000000</td>\n",
       "    </tr>\n",
       "    <tr>\n",
       "      <th>25%</th>\n",
       "      <td>3.000000</td>\n",
       "      <td>1.000000e+02</td>\n",
       "      <td>16.000000</td>\n",
       "      <td>1.500000e+03</td>\n",
       "      <td>4.000000</td>\n",
       "      <td>3.000000</td>\n",
       "      <td>30.000000</td>\n",
       "    </tr>\n",
       "    <tr>\n",
       "      <th>50%</th>\n",
       "      <td>25.000000</td>\n",
       "      <td>1.457000e+03</td>\n",
       "      <td>20.000000</td>\n",
       "      <td>5.000000e+03</td>\n",
       "      <td>6.000000</td>\n",
       "      <td>11.000000</td>\n",
       "      <td>30.000000</td>\n",
       "    </tr>\n",
       "    <tr>\n",
       "      <th>75%</th>\n",
       "      <td>85.000000</td>\n",
       "      <td>6.235000e+03</td>\n",
       "      <td>22.000000</td>\n",
       "      <td>1.329770e+04</td>\n",
       "      <td>8.000000</td>\n",
       "      <td>36.000000</td>\n",
       "      <td>34.000000</td>\n",
       "    </tr>\n",
       "    <tr>\n",
       "      <th>max</th>\n",
       "      <td>105857.000000</td>\n",
       "      <td>8.596475e+06</td>\n",
       "      <td>35.000000</td>\n",
       "      <td>1.523501e+08</td>\n",
       "      <td>27.000000</td>\n",
       "      <td>3304.000000</td>\n",
       "      <td>93.000000</td>\n",
       "    </tr>\n",
       "  </tbody>\n",
       "</table>\n",
       "</div>"
      ],
      "text/plain": [
       "       backers_count   usd_pledged   blurb_length      usd_goal  \\\n",
       "count  168979.000000  1.689790e+05  168979.000000  1.689790e+05   \n",
       "mean      140.068221  1.211097e+04      19.010759  4.109688e+04   \n",
       "std       894.931802  8.373932e+04       4.982463  1.110957e+06   \n",
       "min         0.000000  0.000000e+00       0.000000  1.000000e-02   \n",
       "25%         3.000000  1.000000e+02      16.000000  1.500000e+03   \n",
       "50%        25.000000  1.457000e+03      20.000000  5.000000e+03   \n",
       "75%        85.000000  6.235000e+03      22.000000  1.329770e+04   \n",
       "max    105857.000000  8.596475e+06      35.000000  1.523501e+08   \n",
       "\n",
       "         name_length  creation_to_launch_days  campaign_days  \n",
       "count  168979.000000            168979.000000  168979.000000  \n",
       "mean        5.709153                46.710645      32.643287  \n",
       "std         2.706210               127.597384      11.761523  \n",
       "min         1.000000                 0.000000       1.000000  \n",
       "25%         4.000000                 3.000000      30.000000  \n",
       "50%         6.000000                11.000000      30.000000  \n",
       "75%         8.000000                36.000000      34.000000  \n",
       "max        27.000000              3304.000000      93.000000  "
      ]
     },
     "execution_count": 359,
     "metadata": {},
     "output_type": "execute_result"
    }
   ],
   "source": [
    "# Summary statistics for the numerical features\n",
    "df.describe()"
   ]
  },
  {
   "cell_type": "code",
   "execution_count": 360,
   "metadata": {
    "scrolled": false
   },
   "outputs": [
    {
     "name": "stdout",
     "output_type": "stream",
     "text": [
      "Key stats:\n",
      "\n",
      "The total amount of money that projects have aimed to raise is $6,944,509,112\n",
      "The total amount of money pledged by backers is $2,046,500,420\n",
      "The total amount of money pledged by backers to successful projects is $1,965,321,660\n",
      "\n",
      "The total number of successfuly or failed projects launched on Kickstarter is: 168,979\n",
      "The total number of projects which were successfully funded is: 94,779\n",
      "The proportion of projects which were successfully funded is: 56%\n",
      "\n",
      "The average project fundraising goal is $41,097\n",
      "The average amount pledged per project is $12,111\n",
      "The average amount pledged per successful project is $20,736\n",
      "The average amount pledged per failed project is $1,094\n",
      "\n",
      "The average number of backers per project is 140\n",
      "The average number of days a campaign is run for is 33\n"
     ]
    }
   ],
   "source": [
    "print(\"Key stats:\")\n",
    "print(\"\\nThe total amount of money that projects have aimed to raise is ${0:,.0f}\".format(df.usd_goal.sum()))\n",
    "print(\"The total amount of money pledged by backers is ${0:,.0f}\".format(df.usd_pledged.sum()))\n",
    "print(\"The total amount of money pledged by backers to successful projects is ${0:,.0f}\".format(sum(df.loc[df['state'] == 'successful'].usd_pledged)))\n",
    "\n",
    "print(\"\\nThe total number of successfuly or failed projects launched on Kickstarter is: {0:,}\".format(len(df)))\n",
    "print(\"The total number of projects which were successfully funded is: {0:,}\".format(len(df.loc[df['state'] == 'successful'])))\n",
    "print(f\"The proportion of projects which were successfully funded is: {int(round((len(df.loc[df['state'] == 'successful'])/len(df))*100,0))}%\")\n",
    "\n",
    "print(\"\\nThe average project fundraising goal is ${0:,.0f}\".format(df.usd_goal.mean()))\n",
    "print(\"The average amount pledged per project is ${0:,.0f}\".format(df.usd_pledged.mean()))\n",
    "print(\"The average amount pledged per successful project is ${0:,.0f}\".format(df.loc[df['state'] == 'successful'].usd_pledged.mean()))\n",
    "print(\"The average amount pledged per failed project is ${0:,.0f}\".format(df.loc[df['state'] == 'failed'].usd_pledged.mean()))\n",
    "      \n",
    "print(\"\\nThe average number of backers per project is\", int(round(df.backers_count.mean(),0)))\n",
    "print(\"The average number of days a campaign is run for is\", int(round(df.campaign_days.mean(),0)))"
   ]
  },
  {
   "cell_type": "markdown",
   "metadata": {},
   "source": [
    "The graphs below show the number of successful and failed projects launched on the site, and the median (due to the heavy positive skew) goal and pledged amount per project. Unsurprisingly, successful projects tend to have smaller (and therefore more realistic) goals - the median amount sought by successful projects is half that of failed projects. The differences in the median amount pledged per project are perhaps more surprising, however. Firstly, the median amount pledged per successful project is considerably higher than the median amount requested, suggesting that projects that meet their goal tend to go on to gain even more funding, and become 'over-funded'. Secondly, and on a related note, the difference between failed and successful companies is much larger in terms of amount pledged. Possibly once potential backers see that a project looks like it will be successful, they are more likely to fund it."
   ]
  },
  {
   "cell_type": "code",
   "execution_count": 361,
   "metadata": {},
   "outputs": [
    {
     "data": {
      "image/png": "[encoded data removed]",
      "text/plain": [
       "<Figure size 864x288 with 3 Axes>"
      ]
     },
     "metadata": {},
     "output_type": "display_data"
    }
   ],
   "source": [
    "# Plotting the average amount pledged to successful and unsuccesful projects\n",
    "fig, ax = plt.subplots(1,3, figsize=(12,4))\n",
    "\n",
    "df['state'].value_counts(ascending=True).plot(kind='bar', ax=ax[0], color=['firebrick', 'seagreen'])\n",
    "ax[0].set_title('Number of projects')\n",
    "ax[0].set_xlabel('')\n",
    "\n",
    "df.groupby('state').usd_goal.median().plot(kind='bar', ax=ax[1], color=['firebrick', 'seagreen'])\n",
    "ax[1].set_title('Median project goal ($)')\n",
    "ax[1].set_xlabel('')\n",
    "\n",
    "df.groupby('state').usd_pledged.median().plot(kind='bar', ax=ax[2], color=['firebrick', 'seagreen'])\n",
    "ax[2].set_title('Median pledged per project ($)')\n",
    "ax[2].set_xlabel('')\n",
    "\n",
    "plt.show()"
   ]
  },
  {
   "cell_type": "markdown",
   "metadata": {},
   "source": [
    "**How has fundraising changed over time?**"
   ]
  },
  {
   "cell_type": "markdown",
   "metadata": {},
   "source": [
    "The graph below shows the number of projects launched each month on Kickstarter from 2009 to 2019. The number of projects steadily grows from when the company was founded in 2009 up to the start of 2014. From 2012 Kickstarter started expanding into other countries, having launched initially in the US. Growth increased dramatically in 2014, and has remained at a high level since then, with a small decrease from 2015 to 2016. Seasonality is also hinted at, with fewer projects appearing to be launched in November. The second graph shows a similar story, with the cumulative amount pledged increasing more quickly from 2012 onwards."
   ]
  },
  {
   "cell_type": "code",
   "execution_count": 462,
   "metadata": {
    "scrolled": false
   },
   "outputs": [
    {
     "data": {
      "image/png": "[encoded data removed]",
      "text/plain": [
       "<Figure size 1152x432 with 1 Axes>"
      ]
     },
     "metadata": {},
     "output_type": "display_data"
    }
   ],
   "source": [
    "# Plotting the number of projects launched each month\n",
    "plt.figure(figsize=(16,6))\n",
    "df.set_index('launched_at').category.resample('MS').count().plot()\n",
    "plt.xlim('2009-01-01', '2019-02-28') # Limiting to whole months\n",
    "plt.xlabel('Launch date', fontsize=12)\n",
    "plt.ylabel('Number of projects', fontsize=12)\n",
    "plt.title('Number of projects launched on Kickstarter, 2009-2019', fontsize=16)\n",
    "plt.show()"
   ]
  },
  {
   "cell_type": "code",
   "execution_count": 363,
   "metadata": {
    "scrolled": false
   },
   "outputs": [
    {
     "data": {
      "image/png": "[encoded data removed]",
      "text/plain": [
       "<Figure size 1152x432 with 1 Axes>"
      ]
     },
     "metadata": {},
     "output_type": "display_data"
    }
   ],
   "source": [
    "# Plotting the cumulative amount pledged on Kickstarter\n",
    "plt.figure(figsize=(16,6))\n",
    "df.set_index('launched_at').sort_index().usd_pledged.cumsum().plot()\n",
    "plt.xlim('2009-01-01', '2019-02-28') # Limiting to whole months\n",
    "plt.xlabel('Launch date', fontsize=12)\n",
    "plt.ylabel('Cumulative amount pledged ($)', fontsize=12)\n",
    "plt.title('Cumulative pledges on Kickstarter, 2009-2019', fontsize=16)\n",
    "plt.show()"
   ]
  },
  {
   "cell_type": "markdown",
   "metadata": {},
   "source": [
    "The table and graph below show the total and distribution of pledged amounts for each year 2009-2019. Again, the trend can be split into two phases, with a change in 2014. From 2014 onwards there was greater variation in the amounts pledged, with lower median amounts than the period 2009-2014, but generally higher mean amounts (with the exception of 2013) due to some very large projects."
   ]
  },
  {
   "cell_type": "code",
   "execution_count": 364,
   "metadata": {},
   "outputs": [
    {
     "name": "stdout",
     "output_type": "stream",
     "text": [
      "Average amount pledged per project in each year, in $:\n",
      "launched_at\n",
      "2009-01-01     3683.34\n",
      "2010-01-01     4723.06\n",
      "2011-01-01     5656.52\n",
      "2012-01-01     9140.69\n",
      "2013-01-01    17151.15\n",
      "2014-01-01     9707.05\n",
      "2015-01-01     9703.89\n",
      "2016-01-01    10933.94\n",
      "2017-01-01    11783.67\n",
      "2018-01-01    18503.04\n",
      "2019-01-01    17200.13\n",
      "Freq: AS-JAN, Name: usd_pledged, dtype: float64\n"
     ]
    }
   ],
   "source": [
    "print(\"Average amount pledged per project in each year, in $:\")\n",
    "print(round(df.set_index('launched_at').usd_pledged.resample('YS').mean(),2))"
   ]
  },
  {
   "cell_type": "code",
   "execution_count": 365,
   "metadata": {
    "scrolled": false
   },
   "outputs": [
    {
     "name": "stderr",
     "output_type": "stream",
     "text": [
      "C:\\Users\\Laura\\Anaconda3\\envs\\learn-env\\lib\\site-packages\\ipykernel_launcher.py:3: RuntimeWarning: divide by zero encountered in log\n",
      "  This is separate from the ipykernel package so we can avoid doing imports until\n"
     ]
    },
    {
     "data": {
      "image/png": "[encoded data removed]",
      "text/plain": [
       "<Figure size 1152x432 with 1 Axes>"
      ]
     },
     "metadata": {},
     "output_type": "display_data"
    }
   ],
   "source": [
    "# Plotting the distribution of pledged amounts each year\n",
    "plt.figure(figsize=(16,6))\n",
    "sns.boxplot(df.launched_at.dt.year, np.log(df.usd_pledged))\n",
    "plt.xlabel('Year of launch', fontsize=12)\n",
    "plt.ylabel('Amount pledged (log-transformed $)', fontsize=12) # Log-transforming to make the trend clearer, as the distribution is heavily positively skewed\n",
    "plt.title('Amount pledged on Kickstarter projects, 2009-2019', fontsize=16)\n",
    "plt.show()"
   ]
  },
  {
   "cell_type": "markdown",
   "metadata": {},
   "source": [
    "The table and graph below are similar to the ones above, but for the goals of each project. The changes in goals show a similar pattern to the changes in the amounts pledged."
   ]
  },
  {
   "cell_type": "code",
   "execution_count": 366,
   "metadata": {},
   "outputs": [
    {
     "name": "stdout",
     "output_type": "stream",
     "text": [
      "Average fundraising goal per project in each year, in $:\n",
      "launched_at\n",
      "2009-01-01     3937.43\n",
      "2010-01-01     5158.64\n",
      "2011-01-01     6242.00\n",
      "2012-01-01     9479.75\n",
      "2013-01-01    14234.51\n",
      "2014-01-01    40728.63\n",
      "2015-01-01    68779.14\n",
      "2016-01-01    50276.94\n",
      "2017-01-01    49719.64\n",
      "2018-01-01    19859.10\n",
      "2019-01-01    16321.28\n",
      "Freq: AS-JAN, Name: usd_goal, dtype: float64\n"
     ]
    }
   ],
   "source": [
    "print(\"Average fundraising goal per project in each year, in $:\")\n",
    "print(round(df.set_index('launched_at').usd_goal.resample('YS').mean(),2))"
   ]
  },
  {
   "cell_type": "code",
   "execution_count": 367,
   "metadata": {},
   "outputs": [
    {
     "data": {
      "image/png": "[encoded data removed]",
      "text/plain": [
       "<Figure size 1152x432 with 1 Axes>"
      ]
     },
     "metadata": {},
     "output_type": "display_data"
    }
   ],
   "source": [
    "# Plotting the distribution of goal amounts each year\n",
    "plt.figure(figsize=(16,6))\n",
    "sns.boxplot(df.launched_at.dt.year, np.log(df.usd_goal))\n",
    "plt.xlabel('Year of launch', fontsize=12)\n",
    "plt.ylabel('Goal (log-transformed $)', fontsize=12) # Log-transforming to make the trend clearer, as the distribution is heavily positively skewed\n",
    "plt.title('Fundraising goals of Kickstarter projects, 2009-2019', fontsize=16)\n",
    "plt.show()"
   ]
  },
  {
   "cell_type": "markdown",
   "metadata": {},
   "source": [
    "The graph below shows the number and proportion of failed and successful projects each year. Once again, there is a change from 2014. From 2009 to 2013, each year about 80% of projects were successful. However, this decreased from 2014, although since then it has mostly been rising again. "
   ]
  },
  {
   "cell_type": "code",
   "execution_count": 454,
   "metadata": {},
   "outputs": [
    {
     "data": {
      "image/png": "[encoded data removed]",
      "text/plain": [
       "<Figure size 864x288 with 2 Axes>"
      ]
     },
     "metadata": {},
     "output_type": "display_data"
    }
   ],
   "source": [
    "# Creating a dataframe grouped by year with columns for failed and successful\n",
    "year_df = df.set_index('launched_at').state\n",
    "year_df = pd.get_dummies(year_df).resample('YS').sum()\n",
    "\n",
    "# Plotting the number and proportion of failed and successful projects each year\n",
    "fig, ax = plt.subplots(1,2, figsize=(12,4))\n",
    "\n",
    "year_df.plot.bar(ax=ax[0], color=['firebrick', 'seagreen'])\n",
    "ax[0].set_title('Number of failed and succesful projects')\n",
    "ax[0].set_xlabel('')\n",
    "ax[0].set_xticklabels(list(range(2009,2020)), rotation=45)\n",
    "\n",
    "year_df.div(year_df.sum(axis=1), axis=0).successful.plot(kind='bar', ax=ax[1], color='seagreen') # Normalizes counts across rows\n",
    "ax[1].set_title('Proportion of successful projects')\n",
    "ax[1].set_xlabel('')\n",
    "ax[1].set_xticklabels(list(range(2009,2020)), rotation=45)\n",
    "\n",
    "plt.show()"
   ]
  },
  {
   "cell_type": "markdown",
   "metadata": {},
   "source": [
    "**What types of projects do people launch and which are more successful?**"
   ]
  },
  {
   "cell_type": "markdown",
   "metadata": {},
   "source": [
    "There are 15 project categories, of which music is the most common, followed by film & video and art. Technology projects have the highest goals by far (in terms of their median goal size), followed by food (e.g. funding for restaurants), with other categories generally much smaller in terms of their funding goals. However, technology projects are towards the bottom of the leaderboard in terms of the median amount actually pledged. Games, comics, dance and design projects obtain the greatest amount of funding, on average (median). The most frequently succesful categories are comics and dance (probably at least partly due to their relatively small funding goals), while the least successful are food, journalism and technology (again, probably because of their large funding goals)."
   ]
  },
  {
   "cell_type": "code",
   "execution_count": 453,
   "metadata": {
    "scrolled": false
   },
   "outputs": [
    {
     "data": {
      "image/png": "[encoded data removed]",
      "text/plain": [
       "<Figure size 864x576 with 4 Axes>"
      ]
     },
     "metadata": {},
     "output_type": "display_data"
    }
   ],
   "source": [
    "# Creating a dataframe grouped by category with columns for failed and successful\n",
    "cat_df = pd.get_dummies(df.set_index('category').state).groupby('category').sum()\n",
    "\n",
    "# Plotting\n",
    "fig, ((ax1, ax2), (ax3, ax4)) = plt.subplots(2, 2, figsize=(12,8))\n",
    "\n",
    "color = cm.CMRmap(np.linspace(0.1,0.8,df.category.nunique())) # Setting a colormap\n",
    "\n",
    "df.groupby('category').category.count().plot(kind='bar', ax=ax1, color=color)\n",
    "ax1.set_title('Number of projects')\n",
    "ax1.set_xlabel('')\n",
    "\n",
    "df.groupby('category').usd_goal.median().plot(kind='bar', ax=ax2, color=color)\n",
    "ax2.set_title('Median project goal ($)')\n",
    "ax2.set_xlabel('')\n",
    "\n",
    "df.groupby('category').usd_pledged.median().plot(kind='bar', ax=ax3, color=color)\n",
    "ax3.set_title('Median pledged per project ($)')\n",
    "ax3.set_xlabel('')\n",
    "\n",
    "cat_df.div(cat_df.sum(axis=1), axis=0).successful.plot(kind='bar', ax=ax4, color=color) # Normalizes counts across rows\n",
    "ax4.set_title('Proportion of successful projects')\n",
    "ax4.set_xlabel('')\n",
    "\n",
    "fig.subplots_adjust(hspace=0.5)\n",
    "plt.show()"
   ]
  },
  {
   "cell_type": "markdown",
   "metadata": {},
   "source": [
    "**Where do project owners come from and are some countries more successful than others?**"
   ]
  },
  {
   "cell_type": "markdown",
   "metadata": {},
   "source": [
    "The vast majority of projects are from the US, with more than six times the total number of projects compared to the second most prolific country (the UK). Switzerland has the highest median project goal size, although the differences in mean goal sizes are less extreme. Projects from Hong Kong are the most successful, and attract considerably more money than projects from elsewhere - nearly twice the next most lucrative country (Japan)."
   ]
  },
  {
   "cell_type": "code",
   "execution_count": 457,
   "metadata": {},
   "outputs": [
    {
     "data": {
      "image/png": "[encoded data removed]",
      "text/plain": [
       "<Figure size 1152x576 with 4 Axes>"
      ]
     },
     "metadata": {},
     "output_type": "display_data"
    }
   ],
   "source": [
    "# Creating a dataframe grouped by country with columns for failed and successful\n",
    "country_df = pd.get_dummies(df.set_index('country').state).groupby('country').sum()\n",
    "\n",
    "# Plotting\n",
    "fig, ((ax1, ax2), (ax3, ax4)) = plt.subplots(2, 2, figsize=(16,8))\n",
    "\n",
    "color = cm.CMRmap(np.linspace(0.1,0.8,df.country.nunique()))\n",
    "\n",
    "df.groupby('country').country.count().plot(kind='bar', ax=ax1, color=color, rot=0)\n",
    "ax1.set_title('Number of projects')\n",
    "ax1.set_xlabel('')\n",
    "\n",
    "df.groupby('country').usd_goal.median().plot(kind='bar', ax=ax2, color=color, rot=0)\n",
    "ax2.set_title('Median project goal ($)')\n",
    "ax2.set_xlabel('')\n",
    "\n",
    "df.groupby('country').usd_pledged.median().plot(kind='bar', ax=ax3, color=color, rot=0)\n",
    "ax3.set_title('Median pledged per project ($)')\n",
    "ax3.set_xlabel('')\n",
    "\n",
    "country_df.div(country_df.sum(axis=1), axis=0).successful.plot(kind='bar', ax=ax4, color=color, rot=0) # Normalizes counts across rows\n",
    "ax4.set_title('Proportion of successful projects')\n",
    "ax4.set_xlabel('')\n",
    "\n",
    "fig.subplots_adjust(hspace=0.3)\n",
    "plt.show()"
   ]
  },
  {
   "cell_type": "markdown",
   "metadata": {},
   "source": [
    "**When is the best time to launch a project?**"
   ]
  },
  {
   "cell_type": "markdown",
   "metadata": {},
   "source": [
    "Tuesday appears to be the best day to launch a project. It is the most popular launch day, and projects launched on Tuesday are slightly more succesful and attract more funding on average (median). Weekends (and to a lesser extent Fridays) are the least popular days to launch a project, have lower goals, attract less money and are slightly less successful."
   ]
  },
  {
   "cell_type": "code",
   "execution_count": 466,
   "metadata": {
    "scrolled": false
   },
   "outputs": [
    {
     "data": {
      "image/png": "[encoded data removed]",
      "text/plain": [
       "<Figure size 1008x576 with 4 Axes>"
      ]
     },
     "metadata": {},
     "output_type": "display_data"
    }
   ],
   "source": [
    "# Creating a dataframe grouped by the day on which they were launched, with columns for failed and successful\n",
    "day_df = pd.get_dummies(df.set_index('launch_day').state).groupby('launch_day').sum()\n",
    "\n",
    "# Plotting\n",
    "fig, ((ax1, ax2), (ax3, ax4)) = plt.subplots(2, 2, figsize=(14,8))\n",
    "\n",
    "color = cm.CMRmap(np.linspace(0.1,0.8,df.launch_day.nunique()))\n",
    "\n",
    "df.groupby('launch_day').launch_day.count().reindex(['Monday', 'Tuesday', 'Wednesday', 'Thursday', 'Friday', 'Saturday', 'Sunday']).plot(kind='bar', ax=ax1, color=color, rot=0)\n",
    "ax1.set_title('Number of projects launched')\n",
    "ax1.set_xlabel('')\n",
    "\n",
    "df.groupby('launch_day').usd_goal.median().reindex(['Monday', 'Tuesday', 'Wednesday', 'Thursday', 'Friday', 'Saturday', 'Sunday']).plot(kind='bar', ax=ax2, color=color, rot=0)\n",
    "ax2.set_title('Median project goal ($)')\n",
    "ax2.set_xlabel('')\n",
    "\n",
    "df.groupby('launch_day').usd_pledged.median().reindex(['Monday', 'Tuesday', 'Wednesday', 'Thursday', 'Friday', 'Saturday', 'Sunday']).plot(kind='bar', ax=ax3, color=color, rot=0)\n",
    "ax3.set_title('Median pledged per project ($)')\n",
    "ax3.set_xlabel('')\n",
    "\n",
    "day_df.div(day_df.sum(axis=1), axis=0).successful.reindex(['Monday', 'Tuesday', 'Wednesday', 'Thursday', 'Friday', 'Saturday', 'Sunday']).plot(kind='bar', ax=ax4, color=color, rot=0) # Normalizes counts across rows\n",
    "ax4.set_title('Proportion of successful projects')\n",
    "ax4.set_xlabel('')\n",
    "\n",
    "fig.subplots_adjust(hspace=0.3)\n",
    "plt.show()"
   ]
  },
  {
   "cell_type": "markdown",
   "metadata": {},
   "source": []
  },
  {
   "cell_type": "code",
   "execution_count": 477,
   "metadata": {},
   "outputs": [
    {
     "data": {
      "image/png": "[encoded data removed]",
      "text/plain": [
       "<Figure size 1008x576 with 4 Axes>"
      ]
     },
     "metadata": {},
     "output_type": "display_data"
    }
   ],
   "source": [
    "# Creating a dataframe grouped by the month in which they were launched, with columns for failed and successful\n",
    "month_df = pd.get_dummies(df.set_index('launch_month').state).groupby('launch_month').sum()\n",
    "\n",
    "# Plotting\n",
    "months = list(calendar.month_name)[1:]\n",
    "\n",
    "fig, ((ax1, ax2), (ax3, ax4)) = plt.subplots(2, 2, figsize=(14,8))\n",
    "\n",
    "color = cm.CMRmap(np.linspace(0.1,0.8,df.launch_month.nunique()))\n",
    "\n",
    "df.groupby('launch_month').launch_month.count().reindex(months).plot(kind='bar', ax=ax1, color=color, rot=45)\n",
    "ax1.set_title('Number of projects launched')\n",
    "ax1.set_xlabel('')\n",
    "\n",
    "df.groupby('launch_month').usd_goal.median().reindex(months).plot(kind='bar', ax=ax2, color=color, rot=45)\n",
    "ax2.set_title('Median project goal ($)')\n",
    "ax2.set_xlabel('')\n",
    "\n",
    "df.groupby('launch_month').usd_pledged.median().reindex(months).plot(kind='bar', ax=ax3, color=color, rot=45)\n",
    "ax3.set_title('Median pledged per project ($)')\n",
    "ax3.set_xlabel('')\n",
    "\n",
    "month_df.div(month_df.sum(axis=1), axis=0).successful.reindex(months).plot(kind='bar', ax=ax4, color=color, rot=45) # Normalizes counts across rows\n",
    "ax4.set_title('Proportion of successful projects')\n",
    "ax4.set_xlabel('')\n",
    "\n",
    "fig.subplots_adjust(hspace=0.4)\n",
    "plt.show()"
   ]
  },
  {
   "cell_type": "code",
   "execution_count": null,
   "metadata": {},
   "outputs": [],
   "source": []
  },
  {
   "cell_type": "code",
   "execution_count": null,
   "metadata": {},
   "outputs": [],
   "source": []
  },
  {
   "cell_type": "code",
   "execution_count": 53,
   "metadata": {
    "scrolled": false
   },
   "outputs": [
    {
     "data": {
      "image/png": "[encoded data removed]",
      "text/plain": [
       "<Figure size 864x720 with 9 Axes>"
      ]
     },
     "metadata": {
      "needs_background": "light"
     },
     "output_type": "display_data"
    }
   ],
   "source": [
    "# Checking the distributions of continuous features\n",
    "df[df.describe().columns].hist(figsize=(12,10));"
   ]
  },
  {
   "cell_type": "markdown",
   "metadata": {},
   "source": [
    "Most continuous numerical features other than blurb_length and campaign_days are heavily positively skewed. However, this is not an issue for some machine learning models."
   ]
  },
  {
   "cell_type": "code",
   "execution_count": null,
   "metadata": {},
   "outputs": [],
   "source": [
    "# Before modelling, one-hot encode, check for multi-collinearity, transform (standardscaler or 0-1?) and save features minus dates and sub-category as new dataframe"
   ]
  },
  {
   "cell_type": "markdown",
   "metadata": {},
   "source": [
    "***\n",
    "# Modeling"
   ]
  },
  {
   "cell_type": "code",
   "execution_count": null,
   "metadata": {},
   "outputs": [],
   "source": []
  },
  {
   "cell_type": "markdown",
   "metadata": {},
   "source": [
    "***\n",
    "# Interpretation"
   ]
  },
  {
   "cell_type": "code",
   "execution_count": null,
   "metadata": {},
   "outputs": [],
   "source": []
  },
  {
   "cell_type": "markdown",
   "metadata": {},
   "source": [
    "***\n",
    "# Summary"
   ]
  },
  {
   "cell_type": "code",
   "execution_count": null,
   "metadata": {},
   "outputs": [],
   "source": []
  }
 ],
 "metadata": {
  "kernelspec": {
   "display_name": "learn-env",
   "language": "python",
   "name": "learn-env"
  },
  "language_info": {
   "codemirror_mode": {
    "name": "ipython",
    "version": 3
   },
   "file_extension": ".py",
   "mimetype": "text/x-python",
   "name": "python",
   "nbconvert_exporter": "python",
   "pygments_lexer": "ipython3",
   "version": "3.6.6"
  }
 },
 "nbformat": 4,
 "nbformat_minor": 2
}
